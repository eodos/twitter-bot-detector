{
 "cells": [
  {
   "cell_type": "markdown",
   "metadata": {},
   "source": [
    "### First, we extract usernames from the unprocessed dataset"
   ]
  },
  {
   "cell_type": "code",
   "execution_count": null,
   "metadata": {
    "collapsed": true
   },
   "outputs": [],
   "source": [
    "bot_usernames = [];\n",
    "nonbot_usernames = [];\n",
    "with open('unprocessed_dataset/bots_data.csv', encoding='latin-1') as f:\n",
    "    f.readline()\n",
    "    for line in f:\n",
    "        try:\n",
    "            if (line[0] != ' ' and line.split(',')[2][0] != \"\\\"\"):\n",
    "                bot_usernames.append(line.split(',')[2])\n",
    "        except:\n",
    "            continue\n",
    "with open('unprocessed_dataset/nonbots_data.csv', encoding='latin-1') as f:\n",
    "    for line in f:\n",
    "        try:\n",
    "            if (line[0] != ' ' and line.split(',')[2][0] != \"\\\"\"):\n",
    "                nonbot_usernames.append(line.split(',')[2])\n",
    "        except:\n",
    "            continue"
   ]
  },
  {
   "cell_type": "code",
   "execution_count": null,
   "metadata": {
    "collapsed": true
   },
   "outputs": [],
   "source": [
    "len(bot_usernames), len(nonbot_usernames)"
   ]
  },
  {
   "cell_type": "code",
   "execution_count": null,
   "metadata": {
    "collapsed": true
   },
   "outputs": [],
   "source": [
    "from twitter import *\n",
    "\n",
    "from api_keys import *\n",
    "\n",
    "twitter = Twitter(auth = OAuth(access_key, access_secret, consumer_key, consumer_secret))"
   ]
  },
  {
   "cell_type": "code",
   "execution_count": null,
   "metadata": {
    "collapsed": true
   },
   "outputs": [],
   "source": [
    "def add_accounts_info(accounts, output):\n",
    "    temp = twitter.users.lookup(screen_name=','.join(accounts))\n",
    "    for account in temp:\n",
    "        output.append(account)"
   ]
  },
  {
   "cell_type": "markdown",
   "metadata": {},
   "source": [
    "### Get Twitter accounts information from the API in batches of 100 accounts"
   ]
  },
  {
   "cell_type": "code",
   "execution_count": null,
   "metadata": {
    "collapsed": true
   },
   "outputs": [],
   "source": [
    "bots_info = []\n",
    "count = 100\n",
    "\n",
    "while (count<len(bot_usernames)):\n",
    "    add_accounts_info(bot_usernames[count-100:count], bots_info)\n",
    "    count += 100\n",
    "add_accounts_info(bot_usernames[count-100:len(bot_usernames)], bots_info)"
   ]
  },
  {
   "cell_type": "code",
   "execution_count": null,
   "metadata": {
    "collapsed": true
   },
   "outputs": [],
   "source": [
    "len(bots_info)"
   ]
  },
  {
   "cell_type": "code",
   "execution_count": null,
   "metadata": {
    "collapsed": true
   },
   "outputs": [],
   "source": [
    "nonbots_info = []\n",
    "count = 100\n",
    "\n",
    "while (count<len(nonbot_usernames)):\n",
    "    add_accounts_info(nonbot_usernames[count-100:count], nonbots_info)\n",
    "    count += 100\n",
    "add_accounts_info(nonbot_usernames[count-100:len(nonbot_usernames)], nonbots_info)"
   ]
  },
  {
   "cell_type": "code",
   "execution_count": null,
   "metadata": {
    "collapsed": true
   },
   "outputs": [],
   "source": [
    "len(nonbots_info)"
   ]
  },
  {
   "cell_type": "code",
   "execution_count": null,
   "metadata": {
    "collapsed": true
   },
   "outputs": [],
   "source": [
    "import pickle\n",
    "with open('processed_dataset/bot_accounts.pkl', 'wb') as f:\n",
    "    pickle.dump(bots_info, f)\n",
    "    \n",
    "with open('processed_dataset/nonbot_accounts.pkl', 'wb') as f:\n",
    "    pickle.dump(nonbots_info, f)"
   ]
  }
 ],
 "metadata": {
  "anaconda-cloud": {},
  "kernelspec": {
   "display_name": "Python 3",
   "language": "python",
   "name": "python3"
  },
  "language_info": {
   "codemirror_mode": {
    "name": "ipython",
    "version": 3
   },
   "file_extension": ".py",
   "mimetype": "text/x-python",
   "name": "python",
   "nbconvert_exporter": "python",
   "pygments_lexer": "ipython3",
   "version": "3.6.1"
  }
 },
 "nbformat": 4,
 "nbformat_minor": 2
}
