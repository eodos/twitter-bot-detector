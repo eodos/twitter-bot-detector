{
 "cells": [
  {
   "cell_type": "markdown",
   "metadata": {
    "deletable": true,
    "editable": true
   },
   "source": [
    "### First, we extract usernames from the unprocessed dataset"
   ]
  },
  {
   "cell_type": "code",
   "execution_count": 1,
   "metadata": {
    "collapsed": false,
    "deletable": true,
    "editable": true
   },
   "outputs": [],
   "source": [
    "bot_usernames = [];\n",
    "nonbot_usernames = [];\n",
    "with open('unprocessed_dataset/bots_data.csv', encoding='latin-1') as f:\n",
    "    f.readline()\n",
    "    for line in f:\n",
    "        try:\n",
    "            if (line[0] != ' ' and line.split(',')[2][0] != \"\\\"\"):\n",
    "                bot_usernames.append(line.split(',')[2])\n",
    "        except:\n",
    "            continue\n",
    "with open('unprocessed_dataset/nonbots_data.csv', encoding='latin-1') as f:\n",
    "    for line in f:\n",
    "        try:\n",
    "            if (line[0] != ' ' and line.split(',')[2][0] != \"\\\"\"):\n",
    "                nonbot_usernames.append(line.split(',')[2])\n",
    "        except:\n",
    "            continue"
   ]
  },
  {
   "cell_type": "code",
   "execution_count": 2,
   "metadata": {
    "collapsed": false,
    "deletable": true,
    "editable": true
   },
   "outputs": [
    {
     "data": {
      "text/plain": [
       "(1008, 1136)"
      ]
     },
     "execution_count": 2,
     "metadata": {},
     "output_type": "execute_result"
    }
   ],
   "source": [
    "len(bot_usernames), len(nonbot_usernames)"
   ]
  },
  {
   "cell_type": "code",
   "execution_count": 4,
   "metadata": {
    "collapsed": false,
    "deletable": true,
    "editable": true
   },
   "outputs": [],
   "source": [
    "from twitter import *\n",
    "\n",
    "from api_keys import *\n",
    "\n",
    "twitter = Twitter(auth = OAuth(access_key, access_secret, consumer_key, consumer_secret))"
   ]
  },
  {
   "cell_type": "code",
   "execution_count": 40,
   "metadata": {
    "collapsed": true,
    "deletable": true,
    "editable": true
   },
   "outputs": [],
   "source": [
    "def add_accounts_info(accounts, output):\n",
    "    temp = twitter.users.lookup(screen_name=','.join(accounts))\n",
    "    for account in temp:\n",
    "        output.append(account)"
   ]
  },
  {
   "cell_type": "markdown",
   "metadata": {
    "deletable": true,
    "editable": true
   },
   "source": [
    "### Get Twitter accounts information from the API in batches of 100 accounts"
   ]
  },
  {
   "cell_type": "code",
   "execution_count": 44,
   "metadata": {
    "collapsed": false,
    "deletable": true,
    "editable": true
   },
   "outputs": [],
   "source": [
    "bots_info = []\n",
    "count = 100\n",
    "\n",
    "while (count<len(bot_usernames)):\n",
    "    add_accounts_info(bot_usernames[count-100:count], bots_info)\n",
    "    count += 100\n",
    "add_accounts_info(bot_usernames[count-100:len(bot_usernames)], bots_info)"
   ]
  },
  {
   "cell_type": "code",
   "execution_count": 48,
   "metadata": {
    "collapsed": false,
    "deletable": true,
    "editable": true
   },
   "outputs": [
    {
     "data": {
      "text/plain": [
       "1003"
      ]
     },
     "execution_count": 48,
     "metadata": {},
     "output_type": "execute_result"
    }
   ],
   "source": [
    "len(bots_info)"
   ]
  },
  {
   "cell_type": "code",
   "execution_count": 51,
   "metadata": {
    "collapsed": false,
    "deletable": true,
    "editable": true
   },
   "outputs": [],
   "source": [
    "nonbots_info = []\n",
    "count = 100\n",
    "\n",
    "while (count<len(nonbot_usernames)):\n",
    "    add_accounts_info(nonbot_usernames[count-100:count], nonbots_info)\n",
    "    count += 100\n",
    "add_accounts_info(nonbot_usernames[count-100:len(nonbot_usernames)], nonbots_info)"
   ]
  },
  {
   "cell_type": "code",
   "execution_count": 53,
   "metadata": {
    "collapsed": false,
    "deletable": true,
    "editable": true
   },
   "outputs": [
    {
     "data": {
      "text/plain": [
       "1130"
      ]
     },
     "execution_count": 53,
     "metadata": {},
     "output_type": "execute_result"
    }
   ],
   "source": [
    "len(nonbots_info)"
   ]
  },
  {
   "cell_type": "code",
   "execution_count": 54,
   "metadata": {
    "collapsed": false,
    "deletable": true,
    "editable": true
   },
   "outputs": [],
   "source": [
    "import pickle\n",
    "with open('processed_dataset/bot_accounts.pkl', 'wb') as f:\n",
    "    pickle.dump(bots_info, f)\n",
    "    \n",
    "with open('processed_dataset/nonbot_accounts.pkl', 'wb') as f:\n",
    "    pickle.dump(nonbots_info, f)"
   ]
  },
  {
   "cell_type": "code",
   "execution_count": null,
   "metadata": {
    "collapsed": true,
    "deletable": true,
    "editable": true
   },
   "outputs": [],
   "source": [
    "# Get tweets (WOP)"
   ]
  },
  {
   "cell_type": "code",
   "execution_count": 66,
   "metadata": {
    "collapsed": false,
    "deletable": true,
    "editable": true
   },
   "outputs": [],
   "source": [
    "bot_tweets = []\n",
    "for account in bot_usernames:\n",
    "    try:\n",
    "        bot_tweets.append(twitter.statuses.user_timeline(screen_name=account, count=10))\n",
    "    except:\n",
    "        bot_tweets.append(0)"
   ]
  },
  {
   "cell_type": "code",
   "execution_count": 91,
   "metadata": {
    "collapsed": false,
    "deletable": true,
    "editable": true
   },
   "outputs": [
    {
     "data": {
      "text/plain": [
       "1008"
      ]
     },
     "execution_count": 91,
     "metadata": {},
     "output_type": "execute_result"
    }
   ],
   "source": [
    "len(bot_tweets)"
   ]
  },
  {
   "cell_type": "code",
   "execution_count": 69,
   "metadata": {
    "collapsed": false,
    "deletable": true,
    "editable": true
   },
   "outputs": [],
   "source": [
    "with open('processet_dataset/bot_tweets.pkl', 'wb') as f:\n",
    "    pickle.dump(bot_tweets, f)"
   ]
  }
 ],
 "metadata": {
  "kernelspec": {
   "display_name": "Python 3",
   "language": "python",
   "name": "python3"
  },
  "language_info": {
   "codemirror_mode": {
    "name": "ipython",
    "version": 3
   },
   "file_extension": ".py",
   "mimetype": "text/x-python",
   "name": "python",
   "nbconvert_exporter": "python",
   "pygments_lexer": "ipython3",
   "version": "3.6.0"
  }
 },
 "nbformat": 4,
 "nbformat_minor": 2
}
