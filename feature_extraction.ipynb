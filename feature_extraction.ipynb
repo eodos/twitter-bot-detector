{
 "cells": [
  {
   "cell_type": "code",
   "execution_count": null,
   "metadata": {
    "collapsed": true
   },
   "outputs": [],
   "source": [
    "import pandas as pd"
   ]
  },
  {
   "cell_type": "code",
   "execution_count": null,
   "metadata": {
    "collapsed": true
   },
   "outputs": [],
   "source": [
    "import pickle\n",
    "\n",
    "with open('processed_dataset/bot_accounts.pkl', 'rb') as f:\n",
    "    bots = pickle.load(f)\n",
    "    \n",
    "with open('processed_dataset/nonbot_accounts.pkl', 'rb') as f:\n",
    "    nonbots = pickle.load(f)"
   ]
  },
  {
   "cell_type": "code",
   "execution_count": null,
   "metadata": {
    "collapsed": true
   },
   "outputs": [],
   "source": [
    "len(bots), len(nonbots)"
   ]
  },
  {
   "cell_type": "code",
   "execution_count": null,
   "metadata": {
    "collapsed": true
   },
   "outputs": [],
   "source": [
    "import re\n",
    "import numpy as np\n",
    "pf_bots = pd.DataFrame(bots)\n",
    "pf_nonbots = pd.DataFrame(nonbots)\n",
    "print(pf_bots.columns)"
   ]
  },
  {
   "cell_type": "code",
   "execution_count": null,
   "metadata": {
    "collapsed": true
   },
   "outputs": [],
   "source": [
    "bot_features = pd.DataFrame([1]*len(bots), columns=['is_bot'])\n",
    "nonbot_features = pd.DataFrame([0]*len(nonbots), columns=['is_bot'])\n",
    "bot_features.head()"
   ]
  },
  {
   "cell_type": "code",
   "execution_count": null,
   "metadata": {
    "collapsed": true
   },
   "outputs": [],
   "source": [
    "# Search for 'bot' text in account name or account description\n",
    "bot_features['has_bot_string'] = [int(item) for item in\n",
    "        ([(re.search(r'bot', item, flags=re.IGNORECASE) != None) for item in list(pf_bots['description'])] \n",
    "      or [(re.search(r'bot', item, flags=re.IGNORECASE) != None) for item in list(pf_bots['name'])])]\n",
    "nonbot_features['has_bot_string'] = [int(item) for item in\n",
    "        ([(re.search(r'bot', item, flags=re.IGNORECASE) != None) for item in list(pf_nonbots['description'])] \n",
    "      or [(re.search(r'bot', item, flags=re.IGNORECASE) != None) for item in list(pf_nonbots['name'])])]\n",
    "\n",
    "bot_features.head()"
   ]
  },
  {
   "cell_type": "code",
   "execution_count": null,
   "metadata": {
    "collapsed": true
   },
   "outputs": [],
   "source": [
    "twitter_start_date = 2006\n",
    "current_year = 2017\n",
    "\n",
    "bot_features['account_age'] = [(current_year - (int(item.split(' ')[-1])))/(current_year - twitter_start_date) for item in list(pf_bots['created_at'])]\n",
    "nonbot_features['account_age'] = [(current_year - (int(item.split(' ')[-1])))/(current_year - twitter_start_date) for item in list(pf_nonbots['created_at'])]\n",
    "\n",
    "bot_features.head()"
   ]
  },
  {
   "cell_type": "code",
   "execution_count": null,
   "metadata": {
    "collapsed": true
   },
   "outputs": [],
   "source": [
    "# Followers\n",
    "max_followers = 100000\n",
    "bot_features['followers'] = [item for item in list(pf_bots['followers_count'])]\n",
    "nonbot_features['followers'] = [item for item in list(pf_nonbots['followers_count'])]\n",
    "\n",
    "# bot_features['followers'] = [min(item/max_followers, 1) for item in list(pf_bots['followers_count'])]\n",
    "# nonbot_features['followers'] = [min(item/max_followers, 1) for item in list(pf_nonbots['followers_count'])]\n",
    "\n",
    "bot_features.head()"
   ]
  },
  {
   "cell_type": "code",
   "execution_count": null,
   "metadata": {
    "collapsed": true
   },
   "outputs": [],
   "source": [
    "# Favourites\n",
    "max_favourites = max(max(list(pf_bots['favourites_count'])), max(list(pf_nonbots['favourites_count'])))\n",
    "bot_features['favourites'] = list(pf_bots['favourites_count'])#/max_favourites\n",
    "nonbot_features['favourites'] = list(pf_nonbots['favourites_count'])#/max_favourites\n",
    "\n",
    "bot_features.head()"
   ]
  },
  {
   "cell_type": "code",
   "execution_count": null,
   "metadata": {
    "collapsed": true,
    "scrolled": true
   },
   "outputs": [],
   "source": [
    "print(max_favourites)"
   ]
  },
  {
   "cell_type": "code",
   "execution_count": null,
   "metadata": {
    "collapsed": true
   },
   "outputs": [],
   "source": [
    "# Contributors_enabled\n",
    "bot_features['contributors'] = [int(item) for item in list(pf_bots['contributors_enabled'])]\n",
    "nonbot_features['contributors'] = [int(item) for item in list(pf_nonbots['contributors_enabled'])]\n",
    "\n",
    "bot_features.head()"
   ]
  },
  {
   "cell_type": "code",
   "execution_count": null,
   "metadata": {
    "collapsed": true
   },
   "outputs": [],
   "source": [
    "# Friends\n",
    "max_friends = 100000\n",
    "bot_features['friends'] = [item for item in list(pf_bots['friends_count'])]\n",
    "nonbot_features['friends'] = [item for item in list(pf_nonbots['friends_count'])]\n",
    "\n",
    "# bot_features['friends'] = [min(item/max_friends, 1) for item in list(pf_bots['friends_count'])]\n",
    "# nonbot_features['friends'] = [min(item/max_friends, 1) for item in list(pf_nonbots['friends_count'])]\n",
    "\n",
    "\n",
    "bot_features.head()"
   ]
  },
  {
   "cell_type": "code",
   "execution_count": null,
   "metadata": {
    "collapsed": true
   },
   "outputs": [],
   "source": [
    "# Geo\n",
    "bot_features['geo'] = [int(item) for item in list(pf_bots['geo_enabled'])]\n",
    "nonbot_features['geo'] = [int(item) for item in list(pf_nonbots['geo_enabled'])]\n",
    "\n",
    "bot_features.head()"
   ]
  },
  {
   "cell_type": "code",
   "execution_count": null,
   "metadata": {
    "collapsed": true
   },
   "outputs": [],
   "source": [
    "# Extended profile\n",
    "bot_features['has_extended_profile'] = [int(item) for item in list(pf_bots['has_extended_profile'])]\n",
    "nonbot_features['has_extended_profile'] = [int(item) for item in list(pf_nonbots['has_extended_profile'])]\n",
    "\n",
    "bot_features.head()"
   ]
  },
  {
   "cell_type": "code",
   "execution_count": null,
   "metadata": {
    "collapsed": true
   },
   "outputs": [],
   "source": [
    "# is_translation_enabled\n",
    "bot_features['is_translation_enabled'] = [int(item) for item in list(pf_bots['is_translation_enabled'])]\n",
    "nonbot_features['is_translation_enabled'] = [int(item) for item in list(pf_nonbots['is_translation_enabled'])]\n",
    "\n",
    "bot_features.head()"
   ]
  },
  {
   "cell_type": "code",
   "execution_count": null,
   "metadata": {
    "collapsed": true
   },
   "outputs": [],
   "source": [
    "# lang == en\n",
    "bot_features['lang'] = [int(item == 'en') for item in list(pf_bots['lang'])]\n",
    "nonbot_features['lang'] = [int(item == 'en') for item in list(pf_nonbots['lang'])]\n",
    "\n",
    "bot_features.head()"
   ]
  },
  {
   "cell_type": "code",
   "execution_count": null,
   "metadata": {
    "collapsed": true
   },
   "outputs": [],
   "source": [
    "# location != empty string\n",
    "bot_features['location'] = [int(item != '') for item in list(pf_bots['location'])]\n",
    "nonbot_features['location'] = [int(item != '') for item in list(pf_nonbots['location'])]\n",
    "\n",
    "bot_features.head()"
   ]
  },
  {
   "cell_type": "code",
   "execution_count": null,
   "metadata": {
    "collapsed": true
   },
   "outputs": [],
   "source": [
    "# notifications enabled\n",
    "bot_features['notifications'] = [int(item) for item in list(pf_bots['notifications'])]\n",
    "nonbot_features['notifications'] = [int(item) for item in list(pf_nonbots['notifications'])]\n",
    "\n",
    "bot_features.head()"
   ]
  },
  {
   "cell_type": "code",
   "execution_count": null,
   "metadata": {
    "collapsed": true
   },
   "outputs": [],
   "source": [
    "# Number of tweets\n",
    "max_tweets = 100000\n",
    "bot_features['tweets'] = [item for item in list(pf_bots['statuses_count'])]\n",
    "nonbot_features['tweets'] = [item for item in list(pf_nonbots['statuses_count'])]\n",
    "\n",
    "# bot_features['tweets'] = [min(item/max_tweets, 1) for item in list(pf_bots['statuses_count'])]\n",
    "# nonbot_features['tweets'] = [min(item/max_tweets, 1) for item in list(pf_nonbots['statuses_count'])]\n",
    "\n",
    "bot_features.head()"
   ]
  },
  {
   "cell_type": "code",
   "execution_count": null,
   "metadata": {
    "collapsed": true
   },
   "outputs": [],
   "source": [
    "# Verified account\n",
    "bot_features['verified'] = [int(item) for item in list(pf_bots['verified'])]\n",
    "nonbot_features['verified'] = [int(item) for item in list(pf_nonbots['verified'])]\n",
    "\n",
    "bot_features.head()"
   ]
  },
  {
   "cell_type": "code",
   "execution_count": null,
   "metadata": {
    "collapsed": true
   },
   "outputs": [],
   "source": [
    "# Is URL empty\n",
    "bot_features['url'] = [int(item != None) for item in list(pf_bots['url'])]\n",
    "nonbot_features['url'] = [int(item != None) for item in list(pf_nonbots['url'])]\n",
    "\n",
    "bot_features.head()"
   ]
  },
  {
   "cell_type": "code",
   "execution_count": null,
   "metadata": {
    "collapsed": true
   },
   "outputs": [],
   "source": [
    "# Default profile\n",
    "bot_features['default_profile'] = [int(item) for item in list(pf_bots['default_profile'])]\n",
    "nonbot_features['default_profile'] = [int(item) for item in list(pf_nonbots['default_profile'])]\n",
    "\n",
    "bot_features.head()"
   ]
  },
  {
   "cell_type": "code",
   "execution_count": null,
   "metadata": {
    "collapsed": true
   },
   "outputs": [],
   "source": [
    "# Default profile image\n",
    "bot_features['default_profile_image'] = [int(item) for item in list(pf_bots['default_profile_image'])]\n",
    "nonbot_features['default_profile_image'] = [int(item) for item in list(pf_nonbots['default_profile_image'])]\n",
    "\n",
    "bot_features.head()"
   ]
  },
  {
   "cell_type": "code",
   "execution_count": null,
   "metadata": {
    "collapsed": true
   },
   "outputs": [],
   "source": [
    "# Listed\n",
    "max_listed = 10000\n",
    "bot_features['listed'] = [item for item in list(pf_bots['listed_count'])]\n",
    "nonbot_features['listed'] = [item for item in list(pf_nonbots['listed_count'])]\n",
    "\n",
    "# bot_features['listed'] = [min(item/max_listed, 1) for item in list(pf_bots['listed_count'])]\n",
    "# nonbot_features['listed'] = [min(item/max_listed, 1) for item in list(pf_nonbots['listed_count'])]\n",
    "\n",
    "bot_features.head()"
   ]
  },
  {
   "cell_type": "code",
   "execution_count": null,
   "metadata": {
    "collapsed": true
   },
   "outputs": [],
   "source": [
    "# Store DataFrames\n",
    "bot_features.to_pickle('processed_dataset/bot_features_without_normalization.pkl')\n",
    "nonbot_features.to_pickle('processed_dataset/nonbot_features_without_normalization.pkl')"
   ]
  },
  {
   "cell_type": "code",
   "execution_count": null,
   "metadata": {
    "collapsed": true
   },
   "outputs": [],
   "source": [
    "numpy_bot = bot_features.as_matrix()\n",
    "numpy_nonbot = nonbot_features.as_matrix()"
   ]
  },
  {
   "cell_type": "code",
   "execution_count": null,
   "metadata": {
    "collapsed": true
   },
   "outputs": [],
   "source": [
    "np.save('processed_dataset/bot_features_without_normalization', numpy_bot)\n",
    "np.save('processed_dataset/nonbot_features_without_normalization', numpy_nonbot)"
   ]
  },
  {
   "cell_type": "code",
   "execution_count": null,
   "metadata": {
    "collapsed": true
   },
   "outputs": [],
   "source": []
  }
 ],
 "metadata": {
  "kernelspec": {
   "display_name": "Python 3",
   "language": "python",
   "name": "python3"
  },
  "language_info": {
   "codemirror_mode": {
    "name": "ipython",
    "version": 3
   },
   "file_extension": ".py",
   "mimetype": "text/x-python",
   "name": "python",
   "nbconvert_exporter": "python",
   "pygments_lexer": "ipython3",
   "version": "3.6.1"
  }
 },
 "nbformat": 4,
 "nbformat_minor": 2
}
