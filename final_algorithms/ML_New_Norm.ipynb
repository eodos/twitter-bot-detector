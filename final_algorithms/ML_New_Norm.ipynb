{
 "cells": [
  {
   "cell_type": "markdown",
   "metadata": {},
   "source": [
    "# Set with Data without Normalization"
   ]
  },
  {
   "cell_type": "code",
   "execution_count": 5,
   "metadata": {
    "collapsed": false
   },
   "outputs": [],
   "source": [
    "import numpy as np\n",
    "from sklearn.metrics import accuracy_score\n",
    "from sklearn import metrics\n",
    "from sklearn.metrics import roc_auc_score\n",
    "# Make the data set and labels\n",
    "# Create feature vector num. of samples x num. of features\n",
    "# Create feature vector num. of samples x 1 (bot or not)\n",
    "# Load data with normalized features\n",
    "X_b = np.load(open('bot_features.npy','rb'))\n",
    "X_n = np.load(open('nonbot_features.npy','rb'))\n",
    "X_b = [ row[1:] for row in X_b ]\n",
    "X_n = [ row[1:] for row in X_n ]\n",
    "# print(np.size(X_b[1])) # number of features"
   ]
  },
  {
   "cell_type": "markdown",
   "metadata": {},
   "source": [
    "# After the Data is Processed the data is 75/25 split for train/test"
   ]
  },
  {
   "cell_type": "code",
   "execution_count": 6,
   "metadata": {
    "collapsed": false
   },
   "outputs": [],
   "source": [
    "# Split the data set for all classifiers first\n",
    "from sklearn.model_selection import train_test_split\n",
    "X_train = []\n",
    "X_test = []\n",
    "y_train = []\n",
    "y_test = []\n",
    "y_b = np.ones(len(X_b))\n",
    "y_n = np.zeros(len(X_n))\n",
    "X_train_b, X_test_b, y_train_b, y_test_b = train_test_split(X_b, y_b, test_size=0.25, random_state=42)\n",
    "X_train.extend(X_train_b)\n",
    "X_test.extend(X_test_b)\n",
    "y_train.extend(y_train_b)\n",
    "y_test.extend(y_test_b)\n",
    "X_train_n, X_test_n, y_train_n, y_test_n = train_test_split(X_n, y_n, test_size=0.25, random_state=24)\n",
    "X_train.extend(X_train_n)\n",
    "X_test.extend(X_test_n)\n",
    "y_train.extend(y_train_n)\n",
    "y_test.extend(y_test_n)\n"
   ]
  },
  {
   "cell_type": "markdown",
   "metadata": {},
   "source": [
    "# Function to Plot Confusion Matrix"
   ]
  },
  {
   "cell_type": "code",
   "execution_count": 7,
   "metadata": {
    "collapsed": true
   },
   "outputs": [],
   "source": [
    "# Modified from: http://scikit-learn.org/stable/auto_examples/model_selection/plot_confusion_matrix.html#sphx-glr-auto-examples-model-selection-plot-confusion-matrix-py \n",
    "import matplotlib.pyplot as plt\n",
    "import itertools\n",
    "from sklearn.metrics import confusion_matrix\n",
    "def plot_confusion_matrix(y_test, y_pred, classes,\n",
    "                          normalize=False,\n",
    "                          title='Confusion matrix',\n",
    "                          cmap=plt.cm.Blues):\n",
    "    plt.figure()\n",
    "    cnf_matrix = confusion_matrix(y_test, y_pred)\n",
    "    cm = cnf_matrix\n",
    "    plt.imshow(cm, interpolation='nearest', cmap=cmap)\n",
    "    plt.title(title)\n",
    "    plt.colorbar()\n",
    "    tick_marks = np.arange(len(classes))\n",
    "    plt.xticks(tick_marks, classes, rotation=45)\n",
    "    plt.yticks(tick_marks, classes)\n",
    "\n",
    "    if normalize:\n",
    "        cm = cm.astype('float') / cm.sum(axis=1)[:, np.newaxis]\n",
    "        print(\"Normalized confusion matrix\")\n",
    "    else:\n",
    "        print('Confusion matrix, without normalization')\n",
    "\n",
    "    print(cm)\n",
    "\n",
    "    thresh = cm.max() / 2.\n",
    "    for i, j in itertools.product(range(cm.shape[0]), range(cm.shape[1])):\n",
    "        plt.text(j, i, cm[i, j],\n",
    "                 horizontalalignment=\"center\",\n",
    "                 color=\"white\" if cm[i, j] > thresh else \"black\")\n",
    "\n",
    "    plt.tight_layout()\n",
    "    plt.ylabel('True label')\n",
    "    plt.xlabel('Predicted label')\n",
    "    np.set_printoptions(precision=3)\n",
    "    plt.show()\n",
    "# plot_confusion_matrix(y_test, y_pred, classes=class_names,title='Confusion matrix (Normalize) ')\n",
    "class_names = ['bot', 'not-bot']"
   ]
  },
  {
   "cell_type": "markdown",
   "metadata": {},
   "source": [
    "# Function to Plot ROC"
   ]
  },
  {
   "cell_type": "code",
   "execution_count": 18,
   "metadata": {
    "collapsed": true
   },
   "outputs": [],
   "source": [
    "# modified from : http://scikit-learn.org/stable/auto_examples/model_selection/plot_roc.html\n",
    "from sklearn import metrics\n",
    "import matplotlib.pyplot as plt\n",
    "# y_score = classifier.fit(X_train, y_train).decision_function(X_test)\n",
    "def plot_roc(y_test,y_score):\n",
    "    fpr, tpr, thresholds = metrics.roc_curve(y_test, y_score)\n",
    "    roc_auc = metrics.auc(fpr, tpr)\n",
    "    plt.figure()\n",
    "    plt.plot(fpr, tpr, color='darkorange', lw=2, label='ROC curve (area = %0.2f)' % roc_auc)\n",
    "    plt.plot([0, 1], [0, 1], color='navy', lw=2, linestyle='--')\n",
    "    plt.xlim([0.0, 1.0])\n",
    "    plt.ylim([0.0, 1.05])\n",
    "    plt.xlabel('False Positive Rate')\n",
    "    plt.ylabel('True Positive Rate')\n",
    "    plt.title('Receiver Operating Characteristic')\n",
    "    plt.legend(loc=\"lower right\")\n",
    "    plt.show()"
   ]
  },
  {
   "cell_type": "markdown",
   "metadata": {},
   "source": [
    "# Gaussian Naive Bayes "
   ]
  },
  {
   "cell_type": "code",
   "execution_count": 25,
   "metadata": {
    "collapsed": false
   },
   "outputs": [
    {
     "name": "stdout",
     "output_type": "stream",
     "text": [
      "For Gaussian Naive Bayes:\n",
      "The accuracy is: 79.213483% \n",
      "The AUC score is: 0.799382 \n",
      "The precision is: 0.717391 \n",
      "The recall is: 0.920319 \n",
      "The f1 score is: 0.806283 \n"
     ]
    }
   ],
   "source": [
    "from sklearn.naive_bayes import GaussianNB\n",
    "# Naive Bayes for tweets\n",
    "# Create a Gaussian Classifier\n",
    "clf_NB = GaussianNB()\n",
    "# Train the model using the training sets \n",
    "clf_NB.fit(X_train, y_train)\n",
    "#Predict Output \n",
    "predicted_NB = clf_NB.predict(X_test)\n",
    "y_true = y_test\n",
    "y_pred = predicted_NB\n",
    "print('For Gaussian Naive Bayes:')\n",
    "acc = accuracy_score(y_true, y_pred)\n",
    "print (\"The accuracy is: %f%% \" % ( 100*acc ))\n",
    "auc = (roc_auc_score(y_true, y_pred))\n",
    "print (\"The AUC score is: %f \" %  ( auc ))\n",
    "pre = metrics.precision_score(y_true, y_pred)\n",
    "print (\"The precision is: %f \" %  ( pre ))\n",
    "rec = metrics.recall_score(y_true, y_pred)\n",
    "print (\"The recall is: %f \" %  ( rec ))\n",
    "f1 = metrics.f1_score(y_true, y_pred)  \n",
    "print (\"The f1 score is: %f \" %  ( f1 ))"
   ]
  },
  {
   "cell_type": "markdown",
   "metadata": {},
   "source": [
    "# Decison Tree"
   ]
  },
  {
   "cell_type": "code",
   "execution_count": 4,
   "metadata": {
    "collapsed": false
   },
   "outputs": [
    {
     "name": "stdout",
     "output_type": "stream",
     "text": [
      "For Decision Tree:\n",
      "The accuracy is: 89.325843% \n",
      "The AUC score is: 0.891860 \n",
      "The precision is: 0.900826 \n",
      "The recall is: 0.868526 \n",
      "The f1 score is: 0.884381 \n",
      "{'max_depth': 8, 'min_samples_split': 0.0050000000000000001}\n"
     ]
    }
   ],
   "source": [
    "# Decison tree for tweets\n",
    "# Think about using PCA to simplfy data and have better DT\n",
    "# To find best Tree depth\n",
    "from sklearn.model_selection import GridSearchCV\n",
    "from sklearn import tree\n",
    "from math import floor\n",
    "# Should test depth from 3 to num. of features\n",
    "#param_grid = {'max_depth': np.arange(3, len(X_train[1])), 'min_samples_split':np.floor(len(y_train)*(np.arange(1,10,.5)/100))}\n",
    "param_grid = {'max_depth': np.arange(3, len(X_train[1])), 'min_samples_split':(np.arange(.5,10,.5)/100)}\n",
    "#param_grid = {'max_depth': np.arange(3, len(X_train[1])), 'min_samples_split':[5,10,12]}\n",
    "clf_DT = GridSearchCV(tree.DecisionTreeClassifier(), param_grid)\n",
    "clf_DT = clf_DT.fit(X_train, y_train)\n",
    "#predicted_DT = clf_DT.predict_proba(xtest)[:, 1]\n",
    "predicted_DT = clf_DT.predict(X_test)\n",
    "best_set = clf_DT.best_params_\n",
    "y_true = y_test\n",
    "y_pred = predicted_DT\n",
    "print('For Decision Tree:')\n",
    "acc = accuracy_score(y_true, y_pred)\n",
    "print (\"The accuracy is: %f%% \" % ( 100*acc ))\n",
    "auc = (roc_auc_score(y_true, y_pred))\n",
    "print (\"The AUC score is: %f \" %  ( auc ))\n",
    "pre = metrics.precision_score(y_true, y_pred)\n",
    "print (\"The precision is: %f \" %  ( pre ))\n",
    "rec = metrics.recall_score(y_true, y_pred)\n",
    "print (\"The recall is: %f \" %  ( rec ))\n",
    "f1 = metrics.f1_score(y_true, y_pred)  \n",
    "print (\"The f1 score is: %f \" %  ( f1 ))\n",
    "print(best_set)"
   ]
  },
  {
   "cell_type": "code",
   "execution_count": 39,
   "metadata": {
    "collapsed": false
   },
   "outputs": [
    {
     "name": "stdout",
     "output_type": "stream",
     "text": [
      "For Decision Tree:\n",
      "The accuracy is: 96.067416% \n",
      "The AUC score is: 0.961096 \n",
      "The precision is: 0.949219 \n",
      "The recall is: 0.968127 \n",
      "The f1 score is: 0.958580 \n"
     ]
    }
   ],
   "source": [
    "# Manual change of DT\n",
    "from sklearn import tree\n",
    "clf_DT1 = tree.DecisionTreeClassifier(max_depth=6)\n",
    "clf_DT1 = clf_DT1.fit(X_train, y_train)\n",
    "#predicted_DT = clf_DT.predict_proba(xtest)[:, 1]\n",
    "predicted_DT1 = clf_DT1.predict(X_test)\n",
    "#best_set = clf_DT1.best_params_\n",
    "y_true = y_test\n",
    "y_pred = predicted_DT1\n",
    "print('For Decision Tree:')\n",
    "acc = accuracy_score(y_true, y_pred)\n",
    "print (\"The accuracy is: %f%% \" % ( 100*acc ))\n",
    "auc = (roc_auc_score(y_true, y_pred))\n",
    "print (\"The AUC score is: %f \" %  ( auc ))\n",
    "pre = metrics.precision_score(y_true, y_pred)\n",
    "print (\"The precision is: %f \" %  ( pre ))\n",
    "rec = metrics.recall_score(y_true, y_pred)\n",
    "print (\"The recall is: %f \" %  ( rec ))\n",
    "f1 = metrics.f1_score(y_true, y_pred)  \n",
    "print (\"The f1 score is: %f \" %  ( f1 ))"
   ]
  },
  {
   "cell_type": "code",
   "execution_count": 3,
   "metadata": {
    "collapsed": false
   },
   "outputs": [
    {
     "ename": "NameError",
     "evalue": "name 'X_train' is not defined",
     "output_type": "error",
     "traceback": [
      "\u001b[0;31m---------------------------------------------------------------------------\u001b[0m",
      "\u001b[0;31mNameError\u001b[0m                                 Traceback (most recent call last)",
      "\u001b[0;32m<ipython-input-3-ce0ae5144294>\u001b[0m in \u001b[0;36m<module>\u001b[0;34m()\u001b[0m\n\u001b[1;32m      1\u001b[0m \u001b[1;32mfrom\u001b[0m \u001b[0msklearn\u001b[0m \u001b[1;32mimport\u001b[0m \u001b[0mtree\u001b[0m\u001b[1;33m\u001b[0m\u001b[0m\n\u001b[1;32m      2\u001b[0m \u001b[0mclf_DT2\u001b[0m \u001b[1;33m=\u001b[0m \u001b[0mtree\u001b[0m\u001b[1;33m.\u001b[0m\u001b[0mDecisionTreeClassifier\u001b[0m\u001b[1;33m(\u001b[0m\u001b[0mmax_depth\u001b[0m\u001b[1;33m=\u001b[0m\u001b[1;36m8\u001b[0m\u001b[1;33m,\u001b[0m\u001b[0mmin_samples_split\u001b[0m\u001b[1;33m=\u001b[0m \u001b[1;36m0.014999999999999999\u001b[0m\u001b[1;33m)\u001b[0m\u001b[1;33m\u001b[0m\u001b[0m\n\u001b[0;32m----> 3\u001b[0;31m \u001b[0mclf_DT2\u001b[0m \u001b[1;33m=\u001b[0m \u001b[0mclf_DT2\u001b[0m\u001b[1;33m.\u001b[0m\u001b[0mfit\u001b[0m\u001b[1;33m(\u001b[0m\u001b[0mX_train\u001b[0m\u001b[1;33m,\u001b[0m \u001b[0my_train\u001b[0m\u001b[1;33m)\u001b[0m\u001b[1;33m\u001b[0m\u001b[0m\n\u001b[0m\u001b[1;32m      4\u001b[0m \u001b[1;31m# To visualize the tree\u001b[0m\u001b[1;33m\u001b[0m\u001b[1;33m\u001b[0m\u001b[0m\n\u001b[1;32m      5\u001b[0m \u001b[1;32mfrom\u001b[0m \u001b[0mIPython\u001b[0m\u001b[1;33m.\u001b[0m\u001b[0mdisplay\u001b[0m \u001b[1;32mimport\u001b[0m \u001b[0mImage\u001b[0m\u001b[1;33m\u001b[0m\u001b[0m\n",
      "\u001b[0;31mNameError\u001b[0m: name 'X_train' is not defined"
     ]
    }
   ],
   "source": [
    "from sklearn import tree\n",
    "clf_DT2 = tree.DecisionTreeClassifier(max_depth=8,min_samples_split= 0.014999999999999999)\n",
    "clf_DT2 = clf_DT2.fit(X_train, y_train)\n",
    "# To visualize the tree\n",
    "from IPython.display import Image  \n",
    "import pydotplus\n",
    "names = ['has_bot_string','account_age','followers','favourites','contributors','friends','geo','has_extended_profile','is_translation_enabled','lang','location','notifications','tweets','verified','url','default_profile','default_profile_image','listed']\n",
    "clss = ['bot','not_bot']\n",
    "dot_data = tree.export_graphviz(clf_DT2, out_file=None, \n",
    "                     feature_names=names,  \n",
    "                     class_names=clss,  \n",
    "                     filled=True, rounded=True,  \n",
    "                     special_characters=True)  \n",
    "graph = pydotplus.graph_from_dot_data(dot_data)  \n",
    "Image(graph.create_png())  "
   ]
  },
  {
   "cell_type": "markdown",
   "metadata": {
    "collapsed": false
   },
   "source": [
    "# AdaBoost Decision Tree"
   ]
  },
  {
   "cell_type": "code",
   "execution_count": 13,
   "metadata": {
    "collapsed": false
   },
   "outputs": [
    {
     "name": "stdout",
     "output_type": "stream",
     "text": [
      "For Decision Tree with AdaBoost:\n",
      "The accuracy is: 90.823970% \n",
      "The AUC score is: 0.907121 \n",
      "The precision is: 0.913934 \n",
      "The recall is: 0.888446 \n",
      "The f1 score is: 0.901010 \n"
     ]
    }
   ],
   "source": [
    "from sklearn.ensemble import AdaBoostClassifier\n",
    "from sklearn import tree\n",
    "ada = AdaBoostClassifier(tree.DecisionTreeClassifier(max_depth=8))\n",
    "ada = ada.fit(X_train,y_train) \n",
    "pred_ada = ada.predict(X_test)\n",
    "y_true = y_test\n",
    "y_pred = pred_ada\n",
    "print('For Decision Tree with AdaBoost:')\n",
    "acc = accuracy_score(y_true, y_pred)\n",
    "print (\"The accuracy is: %f%% \" % ( 100*acc ))\n",
    "auc = (roc_auc_score(y_true, y_pred))\n",
    "print (\"The AUC score is: %f \" %  ( auc ))\n",
    "pre = metrics.precision_score(y_true, y_pred)\n",
    "print (\"The precision is: %f \" %  ( pre ))\n",
    "rec = metrics.recall_score(y_true, y_pred)\n",
    "print (\"The recall is: %f \" %  ( rec ))\n",
    "f1 = metrics.f1_score(y_true, y_pred)  \n",
    "print (\"The f1 score is: %f \" %  ( f1 ))"
   ]
  },
  {
   "cell_type": "markdown",
   "metadata": {},
   "source": [
    "# Random Forest"
   ]
  },
  {
   "cell_type": "code",
   "execution_count": 34,
   "metadata": {
    "collapsed": false
   },
   "outputs": [
    {
     "ename": "NameError",
     "evalue": "name 'GridSearchCV' is not defined",
     "output_type": "error",
     "traceback": [
      "\u001b[0;31m---------------------------------------------------------------------------\u001b[0m",
      "\u001b[0;31mNameError\u001b[0m                                 Traceback (most recent call last)",
      "\u001b[0;32m<ipython-input-34-08274aa66bca>\u001b[0m in \u001b[0;36m<module>\u001b[0;34m()\u001b[0m\n\u001b[1;32m     12\u001b[0m               \u001b[1;34m\"bootstrap\"\u001b[0m\u001b[1;33m:\u001b[0m \u001b[1;33m[\u001b[0m\u001b[0mTrue\u001b[0m\u001b[1;33m,\u001b[0m \u001b[0mFalse\u001b[0m\u001b[1;33m]\u001b[0m\u001b[1;33m,\u001b[0m\u001b[1;33m\u001b[0m\u001b[0m\n\u001b[1;32m     13\u001b[0m               \"criterion\": [\"gini\", \"entropy\"]}\n\u001b[0;32m---> 14\u001b[0;31m \u001b[0mgrid_search_RF\u001b[0m \u001b[1;33m=\u001b[0m \u001b[0mGridSearchCV\u001b[0m\u001b[1;33m(\u001b[0m\u001b[0mclf_RF\u001b[0m\u001b[1;33m,\u001b[0m \u001b[0mparam_grid\u001b[0m\u001b[1;33m=\u001b[0m\u001b[0mparam_grid\u001b[0m\u001b[1;33m)\u001b[0m\u001b[1;33m\u001b[0m\u001b[0m\n\u001b[0m\u001b[1;32m     15\u001b[0m \u001b[0mgrid_search_RF\u001b[0m\u001b[1;33m.\u001b[0m\u001b[0mfit\u001b[0m\u001b[1;33m(\u001b[0m\u001b[0mX_train\u001b[0m\u001b[1;33m,\u001b[0m \u001b[0my_train\u001b[0m\u001b[1;33m)\u001b[0m\u001b[1;33m\u001b[0m\u001b[0m\n\u001b[1;32m     16\u001b[0m \u001b[0mpredicted_RF\u001b[0m \u001b[1;33m=\u001b[0m \u001b[0mgrid_search_RF\u001b[0m\u001b[1;33m.\u001b[0m\u001b[0mpredict\u001b[0m\u001b[1;33m(\u001b[0m\u001b[0mX_test\u001b[0m\u001b[1;33m)\u001b[0m\u001b[1;33m\u001b[0m\u001b[0m\n",
      "\u001b[0;31mNameError\u001b[0m: name 'GridSearchCV' is not defined"
     ]
    }
   ],
   "source": [
    "# Random Forests\n",
    "from sklearn.ensemble import RandomForestClassifier\n",
    "\n",
    "clf_RF = RandomForestClassifier()\n",
    "# param_grid = {\"max_depth\": [np.arange(3, len(X_train[1])), None],\n",
    "#               \"min_samples_split\": (len(y_train)*(np.arange(0,11,.5)/100)),\n",
    "#               \"bootstrap\": [True, False],\n",
    "#               \"criterion\": [\"gini\", \"entropy\"]}\n",
    "param_grid = {#\"max_depth\": [np.arange(3, len(X_train[1])), None],\n",
    "              #\"max_depth\": [3,  4,  5, 6, 7, 8, 9, 10, 11, 12, 13, 14, 15, 16, 17, 18, 19, None],\n",
    "              \"min_samples_split\": (np.arange(.5,10,.5)/100),\n",
    "              \"bootstrap\": [True, False],\n",
    "              \"criterion\": [\"gini\", \"entropy\"]}\n",
    "grid_search_RF = GridSearchCV(clf_RF, param_grid=param_grid)\n",
    "grid_search_RF.fit(X_train, y_train)\n",
    "predicted_RF = grid_search_RF.predict(X_test)\n",
    "y_pred = predicted_RF\n",
    "print('For Random Forest:')\n",
    "acc = accuracy_score(y_true, y_pred)\n",
    "print (\"The accuracy is: %f%% \" % ( 100*acc ))\n",
    "auc = (roc_auc_score(y_true, y_pred))\n",
    "print (\"The AUC score is: %f \" %  ( auc ))\n",
    "pre = metrics.precision_score(y_true, y_pred)\n",
    "print (\"The precision is: %f \" %  ( pre ))\n",
    "rec = metrics.recall_score(y_true, y_pred)\n",
    "print (\"The recall is: %f \" %  ( rec ))\n",
    "f1 = metrics.f1_score(y_true, y_pred)  \n",
    "print (\"The f1 score is: %f \" %  ( f1 ))\n",
    "best_set_RF = grid_search_RF.best_params_\n",
    "# Utility function to report best scores\n",
    "def report(results, n_top=10):\n",
    "    for i in range(1, n_top + 1):\n",
    "        candidates = np.flatnonzero(results['rank_test_score'] == i)\n",
    "        for candidate in candidates:\n",
    "            print(\"Model with rank: {0}\".format(i))\n",
    "            print(\"Mean validation score: {0:.3f} (std: {1:.3f})\".format(\n",
    "                  results['mean_test_score'][candidate],\n",
    "                  results['std_test_score'][candidate]))\n",
    "            print(\"Parameters: {0}\".format(results['params'][candidate]))\n",
    "            print(\"\")\n",
    "report(grid_search_RF.cv_results_)"
   ]
  },
  {
   "cell_type": "code",
   "execution_count": 70,
   "metadata": {
    "collapsed": false
   },
   "outputs": [
    {
     "name": "stdout",
     "output_type": "stream",
     "text": [
      "(577L, 1L)\n"
     ]
    }
   ],
   "source": [
    "X_val = np.load(open('test_features.npy','rb'))\n",
    "pred_RF = np.array(grid_search_RF.predict(X_val))\n",
    "pred_RF2 = []\n",
    "for i in range (len(pred_RF)):\n",
    "    pred_RF2.append([pred_RF[i]])\n",
    "pred_RF2 = np.array(pred_RF2)\n",
    "print(pred_RF2.shape)\n",
    "np.save('pred_RF2.npy',pred2)"
   ]
  },
  {
   "cell_type": "markdown",
   "metadata": {},
   "source": [
    "# Single SVM"
   ]
  },
  {
   "cell_type": "code",
   "execution_count": 15,
   "metadata": {
    "collapsed": false
   },
   "outputs": [
    {
     "name": "stdout",
     "output_type": "stream",
     "text": [
      "For SVM:\n",
      "The accuracy is: 89.325843% \n",
      "The AUC score is: 0.895464 \n",
      "The precision is: 0.854015 \n",
      "The recall is: 0.932271 \n",
      "The f1 score is: 0.891429 \n"
     ]
    }
   ],
   "source": [
    "# SVM\n",
    "# recommended to scale your data. For example, scale each attribute on the input vector X to [0,1] or [-1,+1], \n",
    "# or standardize it to have mean 0 and variance 1\n",
    "from sklearn.svm import SVC\n",
    "# Set the parameters by cross-validation\n",
    "tuned_parameters = [{'kernel': ['rbf'], 'gamma': [1e-3, 1e-4], 'C': [1, 10, 100, 1000]},\n",
    "                    {'kernel': ['linear'], 'C': [1, 10, 100, 1000]},\n",
    "                    {'kernel': ['poly'], 'degree' : np.arange(1,6), 'gamma': [1e-3, 1e-4], 'C': [1, 10, 100, 1000]},\n",
    "                    {'kernel': ['sigmoid'], 'gamma': [1e-3, 1e-4], 'C': [1, 10, 100, 1000]}]\n",
    "scores = ['precision', 'recall']\n",
    "score = scores[1]\n",
    "clf_SVM = GridSearchCV(SVC(C=1), tuned_parameters, cv=5, scoring='%s_macro' % score)\n",
    "clf_SVM.fit(X_train, y_train)\n",
    "best_set_SVM = clf_SVM.best_params_\n",
    "predicted_SVM = clf_SVM.predict(X_test)\n",
    "y_pred = predicted_SVM\n",
    "print('For SVM:')\n",
    "acc = accuracy_score(y_true, y_pred)\n",
    "print (\"The accuracy is: %f%% \" % ( 100*acc ))\n",
    "auc = (roc_auc_score(y_true, y_pred))\n",
    "print (\"The AUC score is: %f \" %  ( auc ))\n",
    "pre = metrics.precision_score(y_true, y_pred)\n",
    "print (\"The precision is: %f \" %  ( pre ))\n",
    "rec = metrics.recall_score(y_true, y_pred)\n",
    "print (\"The recall is: %f \" %  ( rec ))\n",
    "f1 = metrics.f1_score(y_true, y_pred)  \n",
    "print (\"The f1 score is: %f \" %  ( f1 ))"
   ]
  },
  {
   "cell_type": "markdown",
   "metadata": {},
   "source": [
    "# Ensemble SVM"
   ]
  },
  {
   "cell_type": "code",
   "execution_count": 32,
   "metadata": {
    "collapsed": false
   },
   "outputs": [
    {
     "name": "stdout",
     "output_type": "stream",
     "text": [
      "0.915887850467\n",
      "0.911214953271\n",
      "0.897196261682\n",
      "0.906103286385\n",
      "0.915492957746\n",
      "0.882629107981\n",
      "0.87323943662\n",
      "0.896713615023\n",
      "0.868544600939\n",
      "0.859154929577\n"
     ]
    },
    {
     "data": {
      "text/plain": [
       "'\\nsb = np.array_split(X_train_b,n_sets)\\nsn = np.array_split(X_train_n,n_sets)\\nsbc = np.array_split(y_train_b,n_sets)\\nsnc = np.array_split(y_train_n,n_sets)\\nfor i in range(0,n_sets):\\n    sb[i]=np.concatenate((sb[i], sn[i]), axis=0)\\n    sbc[i]=np.concatenate((sbc[i], snc[i]), axis=0)\\nsvm1.fit(sb[0],sbc[1])\\nsvm2.fit(sb[1],sbc[2])\\nsvm3.fit(sb[2],sbc[3])\\nsvm4.fit(sb[3],sbc[4])\\nsvm5.fit(sb[4],sbc[5])\\nsvm6.fit(sb[5],sbc[6])\\nsvm7.fit(sb[6],sbc[6])\\nsvm8.fit(sb[7],sbc[7])\\nsvm9.fit(sb[8],sbc[8])\\nsvm10.fit(sb[9],sbc[9])\\nvt1 = svm1.predict(X_test)\\nvt2 = svm2.predict(X_test)\\nvt3 = svm3.predict(X_test)\\nvt4 = svm4.predict(X_test)\\nvt5 = svm5.predict(X_test)\\nvt6 = svm6.predict(X_test)\\nvt7 = svm7.predict(X_test)\\nvt8 = svm8.predict(X_test)\\nvt9 = svm9.predict(X_test)\\nvt10 = svm10.predict(X_test)\\nvt_count = np.array(vt1)+np.array(vt2)+np.array(vt3)+np.array(vt4)+np.array(vt5)+np.array(vt6)+np.array(vt7)+np.array(vt8)+np.array(vt9)+np.array(vt10)\\npredicted_ES = [ vt_count[i]>=5 for i in range(0,len(vt_count)) ]\\ny_pred = predicted_ES\\nprint(\\'For Ensemble SVM:\\')\\nacc = accuracy_score(y_true, y_pred)\\nprint (\"The accuracy is: %f%% \" % ( 100*acc ))\\nauc = (roc_auc_score(y_true, y_pred))\\nprint (\"The AUC score is: %f \" %  ( auc ))\\npre = metrics.precision_score(y_true, y_pred)\\nprint (\"The precision is: %f \" %  ( pre ))\\nrec = metrics.recall_score(y_true, y_pred)\\nprint (\"The recall is: %f \" %  ( rec ))\\nf1 = metrics.f1_score(y_true, y_pred)  \\nprint (\"The f1 score is: %f \" %  ( f1 ))\\n'"
      ]
     },
     "execution_count": 32,
     "metadata": {},
     "output_type": "execute_result"
    }
   ],
   "source": [
    "# EnsembleSVM\n",
    "# Want to randomly sample data np.random.shuffle(x)\n",
    "# And then trian multiple SVM's \n",
    "# Hard vote on a label\n",
    "#print(best_set_SVM)\n",
    "from math import floor\n",
    "from sklearn.svm import SVC\n",
    "from sklearn.model_selection import KFold\n",
    "from sklearn.model_selection import StratifiedKFold\n",
    "#best_set_SVM = C=10, kernel=linear,\n",
    "n_sets = 10\n",
    "#nsn = floor(len(X_train_n)/n_sets)\n",
    "#nsb = floor(len(X_train_b)/n_sets)\n",
    "svm1 = SVC(C=10, kernel='linear', random_state=1)\n",
    "svm2 = SVC(C=10, kernel='linear', random_state=2)\n",
    "svm3 = SVC(C=10, kernel='linear', random_state=3)\n",
    "svm4 = SVC(C=10, kernel='linear', random_state=4)\n",
    "svm5 = SVC(C=10, kernel='linear', random_state=5)\n",
    "svm6 = SVC(C=10, kernel='linear', random_state=6)\n",
    "svm7 = SVC(C=10, kernel='linear', random_state=7)\n",
    "svm8 = SVC(C=10, kernel='linear', random_state=8)\n",
    "svm9 = SVC(C=10, kernel='linear', random_state=9)\n",
    "svm10 = SVC(C=10, kernel='linear', random_state=10)\n",
    "SVMs = [svm1,svm2,svm3,svm4,svm5,svm6,svm7,svm9,svm10]\n",
    "k_fold = KFold(n_splits=n_sets,shuffle=True)\n",
    "#k_fold = StratifiedKFold(n_splits=n_sets,shuffle=True)\n",
    "X = X_train+X_test #.extend(X_test)\n",
    "X = np.array(X)\n",
    "#print(X)\n",
    "y = y_train+y_test #.extend(y_test)\n",
    "y = np.array(y)\n",
    "# print(len(y))\n",
    "#k = 0;\n",
    "for k, (train, test) in enumerate(k_fold.split(X, y)):\n",
    "    sv = SVC(C=10, kernel='linear', random_state=k)\n",
    "    #SVMs[k] = SVMs[k].fit(X[train], y[train])\n",
    "    sv.fit(X[train], y[train])\n",
    "    #print(\"[fold {0}], score: {2:.5f}\".format(k, SVMs[k].score(X[test], y[test])))\n",
    "    #print(\"[fold {0}], score: {2:.5f}\".format(k, sv.score(X[test], y[test])))\n",
    "    print(sv.score(X[test], y[test]))\n",
    "    #k=k+1\n",
    "'''\n",
    "sb = np.array_split(X_train_b,n_sets)\n",
    "sn = np.array_split(X_train_n,n_sets)\n",
    "sbc = np.array_split(y_train_b,n_sets)\n",
    "snc = np.array_split(y_train_n,n_sets)\n",
    "for i in range(0,n_sets):\n",
    "    sb[i]=np.concatenate((sb[i], sn[i]), axis=0)\n",
    "    sbc[i]=np.concatenate((sbc[i], snc[i]), axis=0)\n",
    "svm1.fit(sb[0],sbc[1])\n",
    "svm2.fit(sb[1],sbc[2])\n",
    "svm3.fit(sb[2],sbc[3])\n",
    "svm4.fit(sb[3],sbc[4])\n",
    "svm5.fit(sb[4],sbc[5])\n",
    "svm6.fit(sb[5],sbc[6])\n",
    "svm7.fit(sb[6],sbc[6])\n",
    "svm8.fit(sb[7],sbc[7])\n",
    "svm9.fit(sb[8],sbc[8])\n",
    "svm10.fit(sb[9],sbc[9])\n",
    "vt1 = svm1.predict(X_test)\n",
    "vt2 = svm2.predict(X_test)\n",
    "vt3 = svm3.predict(X_test)\n",
    "vt4 = svm4.predict(X_test)\n",
    "vt5 = svm5.predict(X_test)\n",
    "vt6 = svm6.predict(X_test)\n",
    "vt7 = svm7.predict(X_test)\n",
    "vt8 = svm8.predict(X_test)\n",
    "vt9 = svm9.predict(X_test)\n",
    "vt10 = svm10.predict(X_test)\n",
    "vt_count = np.array(vt1)+np.array(vt2)+np.array(vt3)+np.array(vt4)+np.array(vt5)+np.array(vt6)+np.array(vt7)+np.array(vt8)+np.array(vt9)+np.array(vt10)\n",
    "predicted_ES = [ vt_count[i]>=5 for i in range(0,len(vt_count)) ]\n",
    "y_pred = predicted_ES\n",
    "print('For Ensemble SVM:')\n",
    "acc = accuracy_score(y_true, y_pred)\n",
    "print (\"The accuracy is: %f%% \" % ( 100*acc ))\n",
    "auc = (roc_auc_score(y_true, y_pred))\n",
    "print (\"The AUC score is: %f \" %  ( auc ))\n",
    "pre = metrics.precision_score(y_true, y_pred)\n",
    "print (\"The precision is: %f \" %  ( pre ))\n",
    "rec = metrics.recall_score(y_true, y_pred)\n",
    "print (\"The recall is: %f \" %  ( rec ))\n",
    "f1 = metrics.f1_score(y_true, y_pred)  \n",
    "print (\"The f1 score is: %f \" %  ( f1 ))\n",
    "'''"
   ]
  },
  {
   "cell_type": "markdown",
   "metadata": {},
   "source": [
    "# Hybrid Ensemble: SVM and Random Forest"
   ]
  },
  {
   "cell_type": "code",
   "execution_count": 43,
   "metadata": {
    "collapsed": false
   },
   "outputs": [
    {
     "name": "stdout",
     "output_type": "stream",
     "text": [
      "For Hybrid Ensemble:\n",
      "The accuracy is: 96.441948% \n",
      "The AUC score is: 0.962377 \n",
      "The precision is: 0.995726 \n",
      "The recall is: 0.928287 \n",
      "The f1 score is: 0.960825 \n"
     ]
    },
    {
     "ename": "NameError",
     "evalue": "name 'plot_confusion_matrix' is not defined",
     "output_type": "error",
     "traceback": [
      "\u001b[0;31m---------------------------------------------------------------------------\u001b[0m",
      "\u001b[0;31mNameError\u001b[0m                                 Traceback (most recent call last)",
      "\u001b[0;32m<ipython-input-43-b6f9440d9a77>\u001b[0m in \u001b[0;36m<module>\u001b[0;34m()\u001b[0m\n\u001b[1;32m     21\u001b[0m \u001b[0mf1\u001b[0m \u001b[1;33m=\u001b[0m \u001b[0mmetrics\u001b[0m\u001b[1;33m.\u001b[0m\u001b[0mf1_score\u001b[0m\u001b[1;33m(\u001b[0m\u001b[0my_true\u001b[0m\u001b[1;33m,\u001b[0m \u001b[0my_pred\u001b[0m\u001b[1;33m)\u001b[0m\u001b[1;33m\u001b[0m\u001b[0m\n\u001b[1;32m     22\u001b[0m \u001b[1;32mprint\u001b[0m \u001b[1;33m(\u001b[0m\u001b[1;34m\"The f1 score is: %f \"\u001b[0m \u001b[1;33m%\u001b[0m  \u001b[1;33m(\u001b[0m \u001b[0mf1\u001b[0m \u001b[1;33m)\u001b[0m\u001b[1;33m)\u001b[0m\u001b[1;33m\u001b[0m\u001b[0m\n\u001b[0;32m---> 23\u001b[0;31m \u001b[0mplot_confusion_matrix\u001b[0m\u001b[1;33m(\u001b[0m\u001b[0my_true\u001b[0m\u001b[1;33m,\u001b[0m \u001b[0my_pred\u001b[0m\u001b[1;33m,\u001b[0m \u001b[0mclasses\u001b[0m\u001b[1;33m=\u001b[0m\u001b[0mclass_names\u001b[0m\u001b[1;33m,\u001b[0m\u001b[0mtitle\u001b[0m\u001b[1;33m=\u001b[0m\u001b[1;34m'Confusion matrix (Normalize) '\u001b[0m\u001b[1;33m)\u001b[0m\u001b[1;33m\u001b[0m\u001b[0m\n\u001b[0m",
      "\u001b[0;31mNameError\u001b[0m: name 'plot_confusion_matrix' is not defined"
     ]
    }
   ],
   "source": [
    "# Hybrid Ensemble\n",
    "from sklearn.ensemble import VotingClassifier\n",
    "from sklearn.ensemble import RandomForestClassifier\n",
    "from sklearn.svm import SVC\n",
    "clf1 = RandomForestClassifier( random_state=1)\n",
    "clf2 = SVC(C=10, kernel='linear', random_state=1)\n",
    "eclf1 = VotingClassifier(estimators=[('RF', clf1), ('SVM', clf2)], voting='hard')\n",
    "# hard = majority vote, soft = argmax of the sums of the predicted probabilities\n",
    "eclf1 = eclf1.fit(X_train,y_train)\n",
    "predicted_ens = eclf1.predict(X_test)\n",
    "y_pred = predicted_ens\n",
    "print('For Hybrid Ensemble:')\n",
    "acc = accuracy_score(y_true, y_pred)\n",
    "print (\"The accuracy is: %f%% \" % ( 100*acc ))\n",
    "auc = (roc_auc_score(y_true, y_pred))\n",
    "print (\"The AUC score is: %f \" %  ( auc ))\n",
    "pre = metrics.precision_score(y_true, y_pred)\n",
    "print (\"The precision is: %f \" %  ( pre ))\n",
    "rec = metrics.recall_score(y_true, y_pred)\n",
    "print (\"The recall is: %f \" %  ( rec ))\n",
    "f1 = metrics.f1_score(y_true, y_pred)  \n",
    "print (\"The f1 score is: %f \" %  ( f1 ))\n",
    "plot_confusion_matrix(y_true, y_pred, classes=class_names,title='Confusion matrix (Normalize) ')"
   ]
  },
  {
   "cell_type": "code",
   "execution_count": 44,
   "metadata": {
    "collapsed": false
   },
   "outputs": [
    {
     "name": "stdout",
     "output_type": "stream",
     "text": [
      "(577L, 1L)\n"
     ]
    }
   ],
   "source": [
    "X_val = np.load(open('test_features.npy','rb'))\n",
    "pred_1f = np.array(eclf1.predict(X_val))\n",
    "pred_4f = []\n",
    "for i in range (len(pred_1f)):\n",
    "    pred_4f.append([pred_1f[i]])\n",
    "pred_4f = np.array(pred_4f)\n",
    "print(pred_4f.shape)\n",
    "np.save('pred_ECL.npy',pred_4f)"
   ]
  },
  {
   "cell_type": "code",
   "execution_count": 18,
   "metadata": {
    "collapsed": false
   },
   "outputs": [
    {
     "name": "stdout",
     "output_type": "stream",
     "text": [
      "For Ensemble SVM 0:\n",
      "The accuracy is: 67.228464% \n",
      "For Ensemble SVM 1:\n",
      "The accuracy is: 85.205993% \n",
      "For Ensemble SVM 2:\n",
      "The accuracy is: 66.666667% \n",
      "For Ensemble SVM 3:\n",
      "The accuracy is: 52.996255% \n",
      "For Ensemble SVM 4:\n",
      "The accuracy is: 52.996255% \n",
      "For Ensemble SVM 5:\n",
      "The accuracy is: 52.996255% \n",
      "For Ensemble SVM 6:\n",
      "The accuracy is: 69.662921% \n",
      "For Ensemble SVM 7:\n",
      "The accuracy is: 56.367041% \n",
      "For Ensemble SVM 8:\n",
      "The accuracy is: 52.996255% \n",
      "For Ensemble SVM 9:\n",
      "The accuracy is: 52.996255% \n",
      "For Ensemble SVM 10:\n",
      "The accuracy is: 62.921348% \n",
      "For Ensemble SVM 11:\n",
      "The accuracy is: 52.996255% \n",
      "For Ensemble SVM 12:\n",
      "The accuracy is: 55.617978% \n",
      "For Ensemble SVM 13:\n",
      "The accuracy is: 68.726592% \n",
      "For Ensemble SVM 14:\n",
      "The accuracy is: 56.367041% \n",
      "For Ensemble SVM 15:\n",
      "The accuracy is: 69.101124% \n",
      "For Ensemble SVM 16:\n",
      "The accuracy is: 54.119850% \n",
      "For Ensemble SVM 17:\n",
      "The accuracy is: 64.794007% \n"
     ]
    }
   ],
   "source": [
    "# Modified EnsembleSVM\n",
    "# Split data per column\n",
    "# And then trian multiple SVM's, 1 per feature \n",
    "# Hard vote on a label\n",
    "#print(best_set_SVM)\n",
    "from sklearn.svm import SVC\n",
    "#best_set_SVM = C=10, kernel=linear,\n",
    "# Same random state for better control\n",
    "svm1 = SVC(C=10, kernel='linear', random_state=1)\n",
    "svm2 = SVC(C=10, kernel='linear', random_state=1)\n",
    "svm3 = SVC(C=10, kernel='linear', random_state=1)\n",
    "svm4 = SVC(C=10, kernel='linear', random_state=1)\n",
    "svm5 = SVC(C=10, kernel='linear', random_state=1)\n",
    "svm6 = SVC(C=10, kernel='linear', random_state=1)\n",
    "svm7 = SVC(C=10, kernel='linear', random_state=1)\n",
    "svm8 = SVC(C=10, kernel='linear', random_state=1)\n",
    "svm9 = SVC(C=10, kernel='linear', random_state=1)\n",
    "svm10 = SVC(C=10, kernel='linear', random_state=1)\n",
    "svm11 = SVC(C=10, kernel='linear', random_state=1)\n",
    "svm12 = SVC(C=10, kernel='linear', random_state=1)\n",
    "svm13 = SVC(C=10, kernel='linear', random_state=1)\n",
    "svm14 = SVC(C=10, kernel='linear', random_state=1)\n",
    "svm15 = SVC(C=10, kernel='linear', random_state=1)\n",
    "svm16 = SVC(C=10, kernel='linear', random_state=1)\n",
    "svm17 = SVC(C=10, kernel='linear', random_state=1)\n",
    "svm18 = SVC(C=10, kernel='linear', random_state=1)\n",
    "X_train2 = np.array(X_train)\n",
    "svm1.fit(X_train2[:,0].reshape(-1, 1),y_train)\n",
    "svm2.fit(X_train2[:,1].reshape(-1, 1),y_train)\n",
    "svm3.fit(X_train2[:,2].reshape(-1, 1),y_train)\n",
    "svm4.fit(X_train2[:,3].reshape(-1, 1),y_train)\n",
    "svm5.fit(X_train2[:,4].reshape(-1, 1),y_train)\n",
    "svm6.fit(X_train2[:,5].reshape(-1, 1),y_train)\n",
    "svm7.fit(X_train2[:,6].reshape(-1, 1),y_train)\n",
    "svm8.fit(X_train2[:,7].reshape(-1, 1),y_train)\n",
    "svm9.fit(X_train2[:,8].reshape(-1, 1),y_train)\n",
    "svm10.fit(X_train2[:,9].reshape(-1, 1),y_train)\n",
    "svm11.fit(X_train2[:,10].reshape(-1, 1),y_train)\n",
    "svm12.fit(X_train2[:,11].reshape(-1, 1),y_train)\n",
    "svm13.fit(X_train2[:,12].reshape(-1, 1),y_train)\n",
    "svm14.fit(X_train2[:,13].reshape(-1, 1),y_train)\n",
    "svm15.fit(X_train2[:,14].reshape(-1, 1),y_train)\n",
    "svm16.fit(X_train2[:,15].reshape(-1, 1),y_train)\n",
    "svm17.fit(X_train2[:,16].reshape(-1, 1),y_train)\n",
    "svm18.fit(X_train2[:,17].reshape(-1, 1),y_train)\n",
    "vt = []\n",
    "X_test2 = np.array(X_test)\n",
    "vt.append(svm1.predict(X_test2[:,0].reshape(-1, 1)))\n",
    "vt.append(svm2.predict(X_test2[:,1].reshape(-1, 1)))\n",
    "vt.append(svm3.predict(X_test2[:,2].reshape(-1, 1)))\n",
    "vt.append(svm4.predict(X_test2[:,3].reshape(-1, 1)))\n",
    "vt.append(svm5.predict(X_test2[:,4].reshape(-1, 1)))\n",
    "vt.append(svm6.predict(X_test2[:,5].reshape(-1, 1)))\n",
    "vt.append(svm7.predict(X_test2[:,6].reshape(-1, 1)))\n",
    "vt.append(svm8.predict(X_test2[:,7].reshape(-1, 1)))\n",
    "vt.append(svm9.predict(X_test2[:,8].reshape(-1, 1)))\n",
    "vt.append(svm10.predict(X_test2[:,9].reshape(-1, 1)))\n",
    "vt.append(svm11.predict(X_test2[:,10].reshape(-1, 1)))\n",
    "vt.append(svm12.predict(X_test2[:,11].reshape(-1, 1)))\n",
    "vt.append(svm13.predict(X_test2[:,12].reshape(-1, 1)))\n",
    "vt.append(svm14.predict(X_test2[:,13].reshape(-1, 1)))\n",
    "vt.append(svm15.predict(X_test2[:,14].reshape(-1, 1)))\n",
    "vt.append(svm16.predict(X_test2[:,15].reshape(-1, 1)))\n",
    "vt.append(svm17.predict(X_test2[:,16].reshape(-1, 1)))\n",
    "vt.append(svm18.predict(X_test2[:,17].reshape(-1, 1)))\n",
    "\"\"\"\n",
    "vt_count = np.array(vt1)+np.array(vt2)+np.array(vt3)+np.array(vt4)+np.array(vt5)+np.array(vt6)+np.array(vt7)+np.array(vt8)+np.array(vt9)+np.array(vt10)\n",
    "predicted_ES = [ vt_count[i]>=5 for i in range(0,len(vt_count)) ]\n",
    "y_pred = predicted_ES\n",
    "print('For Ensemble SVM:')\n",
    "acc = accuracy_score(y_true, y_pred)\n",
    "print (\"The accuracy is: %f%% \" % ( 100*acc ))\n",
    "auc = (roc_auc_score(y_true, y_pred))\n",
    "print (\"The AUC score is: %f \" %  ( auc ))\n",
    "pre = metrics.precision_score(y_true, y_pred)\n",
    "print (\"The precision is: %f \" %  ( pre ))\n",
    "rec = metrics.recall_score(y_true, y_pred)\n",
    "print (\"The recall is: %f \" %  ( rec ))\n",
    "f1 = metrics.f1_score(y_true, y_pred)  \n",
    "print (\"The f1 score is: %f \" %  ( f1 ))\n",
    "\"\"\"\n",
    "for i in range(18):\n",
    "    print('For Ensemble SVM %i:' % i)\n",
    "    acc = accuracy_score(y_test, vt[i])\n",
    "    print (\"The accuracy is: %f%% \" % ( 100*acc ))"
   ]
  },
  {
   "cell_type": "code",
   "execution_count": 19,
   "metadata": {
    "collapsed": false
   },
   "outputs": [
    {
     "name": "stdout",
     "output_type": "stream",
     "text": [
      "For Ensemble SVM:\n",
      "The accuracy is: 83.707865% \n"
     ]
    }
   ],
   "source": [
    "vt_count = np.array(vt[0])+np.array(vt[1])+np.array(vt[2])+np.array(vt[6])+np.array(vt[10])+np.array(vt[13])+np.array(vt[15])+np.array(vt[17])\n",
    "predicted_ES = [ vt_count[i]>=6 for i in range(0,len(vt_count)) ]\n",
    "y_pred = predicted_ES\n",
    "print('For Ensemble SVM:')\n",
    "acc = accuracy_score(y_test, y_pred)\n",
    "print (\"The accuracy is: %f%% \" % ( 100*acc ))"
   ]
  },
  {
   "cell_type": "code",
   "execution_count": 19,
   "metadata": {
    "collapsed": false
   },
   "outputs": [
    {
     "name": "stdout",
     "output_type": "stream",
     "text": [
      "The accuracy is: 85.515395% \n"
     ]
    }
   ],
   "source": [
    "y_pred = svm2.predict(X_train2[:,1].reshape(-1, 1))\n",
    "acc = accuracy_score(y_train, y_pred)\n",
    "print (\"The accuracy is: %f%% \" % ( 100*acc ))"
   ]
  },
  {
   "cell_type": "code",
   "execution_count": 21,
   "metadata": {
    "collapsed": false
   },
   "outputs": [
    {
     "name": "stdout",
     "output_type": "stream",
     "text": [
      "(577L, 1L)\n"
     ]
    }
   ],
   "source": [
    "X_val = np.load(open('test_features.npy','rb'))\n",
    "pred_1f = np.array(svm2.predict(X_val[:,1].reshape(-1, 1)))\n",
    "pred_2f = []\n",
    "for i in range (len(pred_1f)):\n",
    "    pred_2f.append([pred_1f[i]])\n",
    "pred_2f = np.array(pred_2f)\n",
    "print(pred_2f.shape)\n",
    "np.save('pred_1f.npy',pred_2f)"
   ]
  },
  {
   "cell_type": "code",
   "execution_count": 10,
   "metadata": {
    "collapsed": false
   },
   "outputs": [
    {
     "name": "stdout",
     "output_type": "stream",
     "text": [
      "[23, 24, 62, 64, 86, 92, 96, 99, 101, 115, 117, 120, 125, 146, 157, 160, 167, 169, 180, 192, 206, 220, 222, 226, 257, 263, 285, 300, 315, 318, 322, 325, 333, 335, 348, 364, 376, 377, 381, 384, 389, 405, 409, 414, 448, 453, 501, 527, 529, 555, 560, 564, 573, 574, 575, 582, 593, 595, 605, 616, 634, 639, 656, 659, 679, 683, 685, 689, 713, 717, 745, 748, 752, 768, 796, 797, 819, 820, 876, 898, 932, 956, 959, 966, 972, 995]\n",
      "[5, 6, 7, 10, 14, 16, 22, 37, 38, 40, 51, 52, 58, 62, 68, 71, 81, 82, 87, 92, 100, 102, 113, 114, 120, 127, 132, 133, 142, 145, 147, 148, 156, 158, 161, 164, 167, 169, 171, 173, 178, 179, 192, 195, 197, 207, 215, 216, 219, 245, 251, 255, 260, 263, 267, 271, 275, 282, 296, 297, 300, 307, 310, 312, 313, 315, 321, 325, 327, 329, 341, 343, 355, 365, 367, 374, 380, 385, 391, 400, 401, 402, 406, 417, 418, 419, 424, 431, 433, 438, 442, 447, 456, 461, 465, 476, 481, 489, 492, 493, 496, 497, 499, 504, 517, 540, 541, 543, 551, 552, 564, 572, 580, 587, 590, 617, 622, 627, 639, 650, 653, 657, 660, 663, 665, 671, 677, 678, 681, 684, 690, 695, 699, 708, 715, 717, 725, 731, 735, 737, 755, 761, 762, 766, 768, 769, 770, 779, 785, 793, 799, 806, 813, 820, 824, 832, 841, 850, 854, 855, 866, 868, 869, 873, 882, 886, 889, 894, 897, 902, 907, 908, 910, 911, 914, 924, 936, 941, 944, 947, 954, 956, 961, 964, 965, 970, 971, 973, 975, 986, 989, 1001, 1002]\n"
     ]
    }
   ],
   "source": [
    "X_b2 = np.array(X_b)\n",
    "X_n2 = np.array(X_n)\n",
    "y_pred = svm2.predict(X_b2[:,1].reshape(-1, 1))\n",
    "y_pred2 = svm2.predict(X_n2[:,1].reshape(-1, 1))\n",
    "bad_bot = []\n",
    "bad_not = []\n",
    "for i in range(len(y_pred)):\n",
    "    if (y_pred[i] != 1):\n",
    "        bad_bot.append(i)\n",
    "for i in range(len(y_pred)):\n",
    "    if (y_pred2[i] != 0):\n",
    "        bad_not.append(i)\n",
    "print(bad_bot)\n",
    "print(bad_not)"
   ]
  },
  {
   "cell_type": "code",
   "execution_count": 6,
   "metadata": {
    "collapsed": false
   },
   "outputs": [
    {
     "name": "stdout",
     "output_type": "stream",
     "text": [
      "For SVM:\n",
      "The accuracy is: 87.827715% \n",
      "The AUC score is: 0.880204 \n",
      "The precision is: 0.841912 \n",
      "The recall is: 0.912351 \n",
      "The f1 score is: 0.875717 \n"
     ]
    }
   ],
   "source": [
    "# SVM\n",
    "# recommended to scale your data. For example, scale each attribute on the input vector X to [0,1] or [-1,+1], \n",
    "# or standardize it to have mean 0 and variance 1\n",
    "from sklearn.svm import SVC\n",
    "from sklearn.model_selection import GridSearchCV\n",
    "# Set the parameters by cross-validation\n",
    "tuned_parameters = [{'kernel': ['rbf'], 'gamma': [1e-3, 1e-4], 'C': [1, 10, 100, 1000]},\n",
    "                    {'kernel': ['linear'], 'C': [1, 10, 100, 1000]},\n",
    "                    {'kernel': ['poly'], 'degree' : np.arange(1,6), 'gamma': [1e-3, 1e-4], 'C': [1, 10, 100, 1000]},\n",
    "                    {'kernel': ['sigmoid'], 'gamma': [1e-3, 1e-4], 'C': [1, 10, 100, 1000]}]\n",
    "scores = ['precision', 'recall']\n",
    "score = scores[1]\n",
    "clf_SVM = GridSearchCV(SVC(C=1), tuned_parameters, cv=5, scoring='%s_macro' % score)\n",
    "X_test2 = np.array(X_test)\n",
    "X_train2 = np.array(X_train)\n",
    "clf_SVM.fit(X_train2[:,[0,1,2,6,10,13,15,17]], y_train)\n",
    "best_set_SVM = clf_SVM.best_params_\n",
    "predicted_SVM = clf_SVM.predict(X_test2[:,[0,1,2,6,10,13,15,17]])\n",
    "y_pred = predicted_SVM\n",
    "y_true = y_test\n",
    "print('For SVM:')\n",
    "acc = accuracy_score(y_true, y_pred)\n",
    "print (\"The accuracy is: %f%% \" % ( 100*acc ))\n",
    "auc = (roc_auc_score(y_true, y_pred))\n",
    "print (\"The AUC score is: %f \" %  ( auc ))\n",
    "pre = metrics.precision_score(y_true, y_pred)\n",
    "print (\"The precision is: %f \" %  ( pre ))\n",
    "rec = metrics.recall_score(y_true, y_pred)\n",
    "print (\"The recall is: %f \" %  ( rec ))\n",
    "f1 = metrics.f1_score(y_true, y_pred)  \n",
    "print (\"The f1 score is: %f \" %  ( f1 ))"
   ]
  },
  {
   "cell_type": "code",
   "execution_count": 7,
   "metadata": {
    "collapsed": false
   },
   "outputs": [
    {
     "name": "stdout",
     "output_type": "stream",
     "text": [
      "(577L, 1L)\n"
     ]
    }
   ],
   "source": [
    "X_val = np.load(open('test_features.npy','rb'))\n",
    "pred_SVM = np.array(clf_SVM.predict(X_val[:,[0,1,2,6,10,13,15,17]]))\n",
    "pred_SVM2 = []\n",
    "for i in range (len(pred_SVM)):\n",
    "    pred_SVM2.append([pred_SVM[i]])\n",
    "pred_SVM2 = np.array(pred_SVM2)\n",
    "print(pred_SVM2.shape)\n",
    "np.save('pred_SVM2.npy',pred_SVM2)"
   ]
  },
  {
   "cell_type": "code",
   "execution_count": 8,
   "metadata": {
    "collapsed": false
   },
   "outputs": [
    {
     "name": "stdout",
     "output_type": "stream",
     "text": [
      "{'kernel': 'rbf', 'C': 1000, 'gamma': 0.001}\n"
     ]
    }
   ],
   "source": [
    "print(clf_SVM.best_params_)\n"
   ]
  },
  {
   "cell_type": "code",
   "execution_count": 24,
   "metadata": {
    "collapsed": false
   },
   "outputs": [
    {
     "name": "stdout",
     "output_type": "stream",
     "text": [
      "[ 0.87719298  0.8994152   0.90621336  0.9073857   0.90152403]\n",
      "Accuracy: 0.90 (+/- 0.02)\n"
     ]
    },
    {
     "data": {
      "text/plain": [
       "'\\nfrom sklearn.model_selection import cross_val_predict\\npredicted = cross_val_predict(clf, iris.data, iris.target, cv=10)\\nmetrics.accuracy_score(iris.target, predicted) \\n'"
      ]
     },
     "execution_count": 24,
     "metadata": {},
     "output_type": "execute_result"
    }
   ],
   "source": [
    "from sklearn.model_selection import cross_val_score\n",
    "clf = SVC(kernel='rbf', C=1000, gamma=0.01)\n",
    "X_train_v = np.array(X_train.extend(X_test)), \n",
    "y_train_v = np.array(y_train.extend(y_test))\n",
    "scores = cross_val_score(clf, X_train, y_train, cv=5)\n",
    "print(scores)\n",
    "print(\"Accuracy: %0.2f (+/- %0.2f)\" % (scores.mean(), scores.std() * 2))\n",
    "'''\n",
    "from sklearn.model_selection import cross_val_predict\n",
    "predicted = cross_val_predict(clf, iris.data, iris.target, cv=10)\n",
    "metrics.accuracy_score(iris.target, predicted) \n",
    "'''"
   ]
  },
  {
   "cell_type": "code",
   "execution_count": 25,
   "metadata": {
    "collapsed": false
   },
   "outputs": [
    {
     "name": "stdout",
     "output_type": "stream",
     "text": [
      "For SVM:\n",
      "The accuracy is: 87.640449% \n",
      "The AUC score is: 0.878662 \n",
      "The precision is: 0.836364 \n",
      "The recall is: 0.916335 \n",
      "The f1 score is: 0.874525 \n"
     ]
    }
   ],
   "source": [
    "from sklearn.svm import SVC\n",
    "from sklearn.model_selection import GridSearchCV\n",
    "# Set the parameters by cross-validation\n",
    "tuned_parameters = [{'kernel': ['rbf'], 'gamma': [1e-3, 1e-2], 'C': [ 100, 1000,10000]}]\n",
    "scores = ['precision', 'recall']\n",
    "score = scores[1]\n",
    "clf_SVM = GridSearchCV(SVC(C=1), tuned_parameters, cv=5, scoring='%s_macro' % score)\n",
    "X_test2 = np.array(X_test)\n",
    "X_train2 = np.array(X_train)\n",
    "clf_SVM.fit(X_train2[:,[0,1,2,6,10,13,15,17]], y_train)\n",
    "best_set_SVM = clf_SVM.best_params_\n",
    "predicted_SVM = clf_SVM.predict(X_test2[:,[0,1,2,6,10,13,15,17]])\n",
    "y_pred = predicted_SVM\n",
    "y_true = y_test\n",
    "print('For SVM:')\n",
    "acc = accuracy_score(y_true, y_pred)\n",
    "print (\"The accuracy is: %f%% \" % ( 100*acc ))\n",
    "auc = (roc_auc_score(y_true, y_pred))\n",
    "print (\"The AUC score is: %f \" %  ( auc ))\n",
    "pre = metrics.precision_score(y_true, y_pred)\n",
    "print (\"The precision is: %f \" %  ( pre ))\n",
    "rec = metrics.recall_score(y_true, y_pred)\n",
    "print (\"The recall is: %f \" %  ( rec ))\n",
    "f1 = metrics.f1_score(y_true, y_pred)  \n",
    "print (\"The f1 score is: %f \" %  ( f1 ))"
   ]
  },
  {
   "cell_type": "code",
   "execution_count": 26,
   "metadata": {
    "collapsed": false
   },
   "outputs": [
    {
     "name": "stdout",
     "output_type": "stream",
     "text": [
      "{'kernel': 'rbf', 'C': 100, 'gamma': 0.001}\n"
     ]
    }
   ],
   "source": [
    "print(clf_SVM.best_params_)"
   ]
  },
  {
   "cell_type": "code",
   "execution_count": 29,
   "metadata": {
    "collapsed": false
   },
   "outputs": [
    {
     "name": "stdout",
     "output_type": "stream",
     "text": [
      "(577L, 1L)\n"
     ]
    }
   ],
   "source": [
    "X_val = np.load(open('test_features.npy','rb'))\n",
    "pred_1f = np.array(clf_SVM.predict(X_val[:,[0,1,2,6,10,13,15,17]]))\n",
    "pred_2f = []\n",
    "for i in range (len(pred_1f)):\n",
    "    pred_2f.append([pred_1f[i]])\n",
    "pred_2f = np.array(pred_2f)\n",
    "print(pred_2f.shape)\n",
    "np.save('pred_2f.npy',pred_2f)"
   ]
  },
  {
   "cell_type": "code",
   "execution_count": 14,
   "metadata": {
    "collapsed": false
   },
   "outputs": [
    {
     "name": "stdout",
     "output_type": "stream",
     "text": [
      "For MLP:\n",
      "The accuracy is: 85.767790% \n",
      "The AUC score is: 0.860544 \n",
      "The precision is: 0.811388 \n",
      "The recall is: 0.908367 \n",
      "The f1 score is: 0.857143 \n"
     ]
    },
    {
     "name": "stderr",
     "output_type": "stream",
     "text": [
      "C:\\ProgramData\\Anaconda2\\lib\\site-packages\\sklearn\\neural_network\\multilayer_perceptron.py:563: ConvergenceWarning: Stochastic Optimizer: Maximum iterations reached and the optimization hasn't converged yet.\n",
      "  % (), ConvergenceWarning)\n"
     ]
    }
   ],
   "source": [
    "from sklearn.neural_network import MLPClassifier\n",
    "from sklearn.model_selection import GridSearchCV\n",
    "#tuned_parameters = [{'hidden_layer_sizes':[(20,10,5)],'activation' : ['identity', 'logistic', 'tanh', 'relu'], 'solver' : ['lbfgs', 'sgd', 'adam'],'alpha': [.1,.01,.001,.0001], 'learning_rate' : ['constant', 'invscaling', 'adaptive']}]\n",
    "scores = ['precision', 'recall']\n",
    "score = scores[1]\n",
    "#verbose='true'\n",
    "#clf_MLP = GridSearchCV(MLPClassifier(), tuned_parameters, cv=5, scoring='%s_macro' % score)\n",
    "clf_MLP = MLPClassifier(hidden_layer_sizes = (5), activation = 'relu', solver = 'sgd')\n",
    "clf_MLP.fit(X_train, y_train)\n",
    "predicted_MLP = clf_MLP.predict(X_test)\n",
    "y_pred = predicted_MLP\n",
    "y_true = y_test\n",
    "print('For MLP:')\n",
    "acc = accuracy_score(y_true, y_pred)\n",
    "print (\"The accuracy is: %f%% \" % ( 100*acc ))\n",
    "auc = (roc_auc_score(y_true, y_pred))\n",
    "print (\"The AUC score is: %f \" %  ( auc ))\n",
    "pre = metrics.precision_score(y_true, y_pred)\n",
    "print (\"The precision is: %f \" %  ( pre ))\n",
    "rec = metrics.recall_score(y_true, y_pred)\n",
    "print (\"The recall is: %f \" %  ( rec ))\n",
    "f1 = metrics.f1_score(y_true, y_pred)  \n",
    "print (\"The f1 score is: %f \" %  ( f1 ))"
   ]
  },
  {
   "cell_type": "code",
   "execution_count": 17,
   "metadata": {
    "collapsed": false
   },
   "outputs": [
    {
     "name": "stdout",
     "output_type": "stream",
     "text": [
      "Confusion matrix, without normalization\n",
      "[[230  53]\n",
      " [ 23 228]]\n"
     ]
    },
    {
     "data": {
      "image/png": "[encoded data removed]",
      "text/plain": [
       "<matplotlib.figure.Figure at 0xb589d68>"
      ]
     },
     "metadata": {},
     "output_type": "display_data"
    },
    {
     "data": {
      "image/png": "[encoded data removed]",
      "text/plain": [
       "<matplotlib.figure.Figure at 0x5928d68>"
      ]
     },
     "metadata": {},
     "output_type": "display_data"
    },
    {
     "data": {
      "image/png": "[encoded data removed]",
      "text/plain": [
       "<matplotlib.figure.Figure at 0x59288d0>"
      ]
     },
     "metadata": {},
     "output_type": "display_data"
    }
   ],
   "source": [
    "plot_confusion_matrix(y_test, y_pred, classes=class_names,title='Confusion matrix (MLP) ')\n",
    "plot_roc(y_test,y_pred)"
   ]
  },
  {
   "cell_type": "code",
   "execution_count": 106,
   "metadata": {
    "collapsed": false
   },
   "outputs": [
    {
     "name": "stdout",
     "output_type": "stream",
     "text": [
      "For MLP:\n",
      "The accuracy is: 47.013352% \n",
      "The AUC score is: 0.500000 \n",
      "The precision is: 0.470134 \n",
      "The recall is: 1.000000 \n",
      "The f1 score is: 0.639579 \n"
     ]
    }
   ],
   "source": [
    "predicted_MLPt = clf_MLP.predict(X_train)\n",
    "y_pred = predicted_MLPt\n",
    "y_true = y_train\n",
    "print('For MLP:')\n",
    "acc = accuracy_score(y_true, y_pred)\n",
    "print (\"The accuracy is: %f%% \" % ( 100*acc ))\n",
    "auc = (roc_auc_score(y_true, y_pred))\n",
    "print (\"The AUC score is: %f \" %  ( auc ))\n",
    "pre = metrics.precision_score(y_true, y_pred)\n",
    "print (\"The precision is: %f \" %  ( pre ))\n",
    "rec = metrics.recall_score(y_true, y_pred)\n",
    "print (\"The recall is: %f \" %  ( rec ))\n",
    "f1 = metrics.f1_score(y_true, y_pred)  \n",
    "print (\"The f1 score is: %f \" %  ( f1 ))"
   ]
  },
  {
   "cell_type": "code",
   "execution_count": 117,
   "metadata": {
    "collapsed": false
   },
   "outputs": [
    {
     "name": "stdout",
     "output_type": "stream",
     "text": [
      "3760\n",
      "3760\n",
      "3760\n"
     ]
    }
   ],
   "source": [
    "indeces = (clf_MLP.predict(X_train) == y_train)\n",
    "#indeces = indeces.tolist()\n",
    "X_train = np.array(X_train)\n",
    "X_train_new = X_train[indeces]\n",
    "y_train = np.array(y_train)\n",
    "y_train_new = y_train[indeces]\n",
    "print(len(X_train_new))\n",
    "print(len(y_train_new))\n",
    "print(sum(indeces))"
   ]
  },
  {
   "cell_type": "code",
   "execution_count": 1,
   "metadata": {
    "collapsed": false
   },
   "outputs": [
    {
     "ename": "NameError",
     "evalue": "name 'X_train_new' is not defined",
     "output_type": "error",
     "traceback": [
      "\u001b[0;31m---------------------------------------------------------------------------\u001b[0m",
      "\u001b[0;31mNameError\u001b[0m                                 Traceback (most recent call last)",
      "\u001b[0;32m<ipython-input-1-54832b05ffb9>\u001b[0m in \u001b[0;36m<module>\u001b[0;34m()\u001b[0m\n\u001b[1;32m      1\u001b[0m \u001b[1;32mfrom\u001b[0m \u001b[0msklearn\u001b[0m\u001b[1;33m.\u001b[0m\u001b[0mneural_network\u001b[0m \u001b[1;32mimport\u001b[0m \u001b[0mMLPClassifier\u001b[0m\u001b[1;33m\u001b[0m\u001b[0m\n\u001b[1;32m      2\u001b[0m \u001b[0mclf_MLP\u001b[0m \u001b[1;33m=\u001b[0m \u001b[0mMLPClassifier\u001b[0m\u001b[1;33m(\u001b[0m\u001b[0mhidden_layer_sizes\u001b[0m \u001b[1;33m=\u001b[0m \u001b[1;33m(\u001b[0m\u001b[1;36m5\u001b[0m\u001b[1;33m)\u001b[0m\u001b[1;33m,\u001b[0m \u001b[0mactivation\u001b[0m \u001b[1;33m=\u001b[0m \u001b[1;34m'relu'\u001b[0m\u001b[1;33m,\u001b[0m \u001b[0msolver\u001b[0m \u001b[1;33m=\u001b[0m \u001b[1;34m'sgd'\u001b[0m\u001b[1;33m)\u001b[0m\u001b[1;33m\u001b[0m\u001b[0m\n\u001b[0;32m----> 3\u001b[0;31m \u001b[0mclf_MLP\u001b[0m\u001b[1;33m.\u001b[0m\u001b[0mfit\u001b[0m\u001b[1;33m(\u001b[0m\u001b[0mX_train_new\u001b[0m\u001b[1;33m,\u001b[0m \u001b[0my_train_new\u001b[0m\u001b[1;33m)\u001b[0m\u001b[1;33m\u001b[0m\u001b[0m\n\u001b[0m\u001b[1;32m      4\u001b[0m \u001b[0mpredicted_MLP\u001b[0m \u001b[1;33m=\u001b[0m \u001b[0mclf_MLP\u001b[0m\u001b[1;33m.\u001b[0m\u001b[0mpredict\u001b[0m\u001b[1;33m(\u001b[0m\u001b[0mX_train_new\u001b[0m\u001b[1;33m)\u001b[0m\u001b[1;33m\u001b[0m\u001b[0m\n\u001b[1;32m      5\u001b[0m \u001b[0my_pred\u001b[0m \u001b[1;33m=\u001b[0m \u001b[0mpredicted_MLP\u001b[0m\u001b[1;33m\u001b[0m\u001b[0m\n",
      "\u001b[0;31mNameError\u001b[0m: name 'X_train_new' is not defined"
     ]
    }
   ],
   "source": [
    "from sklearn.neural_network import MLPClassifier\n",
    "clf_MLP = MLPClassifier(hidden_layer_sizes = (5), activation = 'relu', solver = 'sgd')\n",
    "clf_MLP.fit(X_train_new, y_train_new)\n",
    "predicted_MLP = clf_MLP.predict(X_train_new)\n",
    "y_pred = predicted_MLP\n",
    "y_true = y_train_new\n",
    "print('For MLP:')\n",
    "acc = accuracy_score(y_true, y_pred)\n",
    "print (\"The accuracy is: %f%% \" % ( 100*acc ))\n",
    "auc = (roc_auc_score(y_true, y_pred))\n",
    "print (\"The AUC score is: %f \" %  ( auc ))\n",
    "pre = metrics.precision_score(y_true, y_pred)\n",
    "print (\"The precision is: %f \" %  ( pre ))\n",
    "rec = metrics.recall_score(y_true, y_pred)\n",
    "print (\"The recall is: %f \" %  ( rec ))\n",
    "f1 = metrics.f1_score(y_true, y_pred)  \n",
    "print (\"The f1 score is: %f \" %  ( f1 ))"
   ]
  },
  {
   "cell_type": "code",
   "execution_count": 119,
   "metadata": {
    "collapsed": false
   },
   "outputs": [
    {
     "name": "stdout",
     "output_type": "stream",
     "text": [
      "(577L, 1L)\n"
     ]
    }
   ],
   "source": [
    "X_val = np.load(open('test_features.npy','rb'))\n",
    "pred_1f = np.array(clf_MLP.predict(X_val))\n",
    "pred_2f = []\n",
    "for i in range (len(pred_1f)):\n",
    "    pred_2f.append([pred_1f[i]])\n",
    "pred_2f = np.array(pred_2f)\n",
    "print(pred_2f.shape)\n",
    "np.save('pred_MLP_88.npy',pred_2f)"
   ]
  },
  {
   "cell_type": "code",
   "execution_count": 107,
   "metadata": {
    "collapsed": false
   },
   "outputs": [
    {
     "name": "stdout",
     "output_type": "stream",
     "text": [
      "(4269L, 18L)\n",
      "(2007L, 18L)\n"
     ]
    }
   ],
   "source": [
    "print(np.shape(X_train))\n",
    "print(np.shape(X_train_new))"
   ]
  },
  {
   "cell_type": "code",
   "execution_count": 102,
   "metadata": {
    "collapsed": false
   },
   "outputs": [
    {
     "name": "stdout",
     "output_type": "stream",
     "text": [
      "[1 1 1 1]\n",
      "[ 9 10 11 12]\n"
     ]
    }
   ],
   "source": [
    "x = np.array([2,3,4,5,6,7,8,9,1,1,1,1])\n",
    "z = np.array([1,2,3,4,5,6,7,8,9,10,11,12])\n",
    "y = x[x==1]\n",
    "d = z[x==1]\n",
    "print(y)\n",
    "print(d)"
   ]
  },
  {
   "cell_type": "code",
   "execution_count": 124,
   "metadata": {
    "collapsed": false
   },
   "outputs": [
    {
     "name": "stdout",
     "output_type": "stream",
     "text": [
      "For Decision Tree with AdaBoost:\n",
      "The accuracy is: 100.000000% \n",
      "The AUC score is: 1.000000 \n",
      "The precision is: 1.000000 \n",
      "The recall is: 1.000000 \n",
      "The f1 score is: 1.000000 \n"
     ]
    }
   ],
   "source": [
    "from sklearn.ensemble import AdaBoostClassifier\n",
    "from sklearn import tree\n",
    "ada2 = AdaBoostClassifier(tree.DecisionTreeClassifier(max_depth=8))\n",
    "ada2 = ada2.fit(X_train_new,y_train_new) \n",
    "pred_ada2 = ada2.predict(X_train_new)\n",
    "y_true = y_train_new\n",
    "y_pred = pred_ada2\n",
    "print('For Decision Tree with AdaBoost:')\n",
    "acc = accuracy_score(y_true, y_pred)\n",
    "print (\"The accuracy is: %f%% \" % ( 100*acc ))\n",
    "auc = (roc_auc_score(y_true, y_pred))\n",
    "print (\"The AUC score is: %f \" %  ( auc ))\n",
    "pre = metrics.precision_score(y_true, y_pred)\n",
    "print (\"The precision is: %f \" %  ( pre ))\n",
    "rec = metrics.recall_score(y_true, y_pred)\n",
    "print (\"The recall is: %f \" %  ( rec ))\n",
    "f1 = metrics.f1_score(y_true, y_pred)  \n",
    "print (\"The f1 score is: %f \" %  ( f1 ))"
   ]
  },
  {
   "cell_type": "code",
   "execution_count": 114,
   "metadata": {
    "collapsed": false
   },
   "outputs": [
    {
     "name": "stdout",
     "output_type": "stream",
     "text": [
      "1.0\n",
      "1.0\n",
      "0.470133520731\n"
     ]
    }
   ],
   "source": [
    "print(np.sum(predicted_MLP)/len(predicted_MLP))\n",
    "print(np.sum(y_train_new)/len(y_train_new))\n",
    "print(np.sum(y_train)/len(y_train))"
   ]
  },
  {
   "cell_type": "code",
   "execution_count": 125,
   "metadata": {
    "collapsed": false
   },
   "outputs": [
    {
     "name": "stdout",
     "output_type": "stream",
     "text": [
      "(577L, 1L)\n"
     ]
    }
   ],
   "source": [
    "X_val = np.load(open('test_features.npy','rb'))\n",
    "pred_1f = np.array(ada2.predict(X_val))\n",
    "pred_2f = []\n",
    "for i in range (len(pred_1f)):\n",
    "    pred_2f.append([pred_1f[i]])\n",
    "pred_2f = np.array(pred_2f)\n",
    "print(pred_2f.shape)\n",
    "np.save('pred_ada2.npy',pred_2f)"
   ]
  },
  {
   "cell_type": "code",
   "execution_count": 130,
   "metadata": {
    "collapsed": false
   },
   "outputs": [
    {
     "name": "stdout",
     "output_type": "stream",
     "text": [
      "For GradientBoostingClassifier:\n",
      "The accuracy is: 98.314607% \n",
      "The AUC score is: 0.982973 \n",
      "The precision is: 0.984000 \n",
      "The recall is: 0.980080 \n",
      "The f1 score is: 0.982036 \n"
     ]
    }
   ],
   "source": [
    "from sklearn.ensemble import GradientBoostingClassifier\n",
    "gbc = GradientBoostingClassifier()\n",
    "gbc = gbc.fit(X_train,y_train) \n",
    "pred_gbc = gbc.predict(X_test)\n",
    "y_true = y_test\n",
    "y_pred = pred_gbc\n",
    "print('For GradientBoostingClassifier:')\n",
    "acc = accuracy_score(y_true, y_pred)\n",
    "print (\"The accuracy is: %f%% \" % ( 100*acc ))\n",
    "auc = (roc_auc_score(y_true, y_pred))\n",
    "print (\"The AUC score is: %f \" %  ( auc ))\n",
    "pre = metrics.precision_score(y_true, y_pred)\n",
    "print (\"The precision is: %f \" %  ( pre ))\n",
    "rec = metrics.recall_score(y_true, y_pred)\n",
    "print (\"The recall is: %f \" %  ( rec ))\n",
    "f1 = metrics.f1_score(y_true, y_pred)  \n",
    "print (\"The f1 score is: %f \" %  ( f1 ))"
   ]
  },
  {
   "cell_type": "code",
   "execution_count": 131,
   "metadata": {
    "collapsed": false
   },
   "outputs": [
    {
     "name": "stdout",
     "output_type": "stream",
     "text": [
      "For GradientBoostingClassifier:\n",
      "The accuracy is: 99.812734% \n",
      "The AUC score is: 0.998233 \n",
      "The precision is: 0.996032 \n",
      "The recall is: 1.000000 \n",
      "The f1 score is: 0.998012 \n"
     ]
    }
   ],
   "source": [
    "from sklearn.neighbors import KNeighborsClassifier\n",
    "knn = KNeighborsClassifier(n_neighbors=9)\n",
    "knn = knn.fit(X_train, y_train) \n",
    "pred_knn = knn.predict(X_test)\n",
    "y_true = y_test\n",
    "y_pred = pred_knn\n",
    "print('For KNN-\n",
    "      Classifier:')\n",
    "acc = accuracy_score(y_true, y_pred)\n",
    "print (\"The accuracy is: %f%% \" % ( 100*acc ))\n",
    "auc = (roc_auc_score(y_true, y_pred))\n",
    "print (\"The AUC score is: %f \" %  ( auc ))\n",
    "pre = metrics.precision_score(y_true, y_pred)\n",
    "print (\"The precision is: %f \" %  ( pre ))\n",
    "rec = metrics.recall_score(y_true, y_pred)\n",
    "print (\"The recall is: %f \" %  ( rec ))\n",
    "f1 = metrics.f1_score(y_true, y_pred)  \n",
    "print (\"The f1 score is: %f \" %  ( f1 ))"
   ]
  },
  {
   "cell_type": "code",
   "execution_count": 132,
   "metadata": {
    "collapsed": false
   },
   "outputs": [
    {
     "name": "stdout",
     "output_type": "stream",
     "text": [
      "(577L, 1L)\n"
     ]
    }
   ],
   "source": [
    "X_val = np.load(open('test_features.npy','rb'))\n",
    "pred_1f = np.array(knn.predict(X_val))\n",
    "pred_2f = []\n",
    "for i in range (len(pred_1f)):\n",
    "    pred_2f.append([pred_1f[i]])\n",
    "pred_2f = np.array(pred_2f)\n",
    "print(pred_2f.shape)\n",
    "np.save('pred_knn.npy',pred_2f)"
   ]
  },
  {
   "cell_type": "code",
   "execution_count": 151,
   "metadata": {
    "collapsed": false
   },
   "outputs": [
    {
     "name": "stdout",
     "output_type": "stream",
     "text": [
      "For KNN-Classifier:\n",
      "The accuracy is: 88.014981% \n",
      "The AUC score is: 0.881970 \n",
      "The precision is: 0.845018 \n",
      "The recall is: 0.912351 \n",
      "The f1 score is: 0.877395 \n"
     ]
    }
   ],
   "source": [
    "from sklearn.neighbors import KNeighborsClassifier\n",
    "knn2 = KNeighborsClassifier(n_neighbors=100)\n",
    "X_train2 = np.array(X_train)\n",
    "X_test2 = np.array(X_test)\n",
    "knn2 = knn2.fit(X_train2[:,[0,1,2,6,10,13,15,17]], y_train) \n",
    "pred_knn2 = knn2.predict(X_test2[:,[0,1,2,6,10,13,15,17]])\n",
    "y_true = y_test\n",
    "y_pred = pred_knn2\n",
    "print('For KNN-Classifier:')\n",
    "acc = accuracy_score(y_true, y_pred)\n",
    "print (\"The accuracy is: %f%% \" % ( 100*acc ))\n",
    "auc = (roc_auc_score(y_true, y_pred))\n",
    "print (\"The AUC score is: %f \" %  ( auc ))\n",
    "pre = metrics.precision_score(y_true, y_pred)\n",
    "print (\"The precision is: %f \" %  ( pre ))\n",
    "rec = metrics.recall_score(y_true, y_pred)\n",
    "print (\"The recall is: %f \" %  ( rec ))\n",
    "f1 = metrics.f1_score(y_true, y_pred)  \n",
    "print (\"The f1 score is: %f \" %  ( f1 ))"
   ]
  },
  {
   "cell_type": "code",
   "execution_count": 198,
   "metadata": {
    "collapsed": false
   },
   "outputs": [
    {
     "name": "stdout",
     "output_type": "stream",
     "text": [
      "For MLP:\n",
      "The accuracy is: 86.891386% \n",
      "The AUC score is: 0.871595 \n",
      "The precision is: 0.824373 \n",
      "The recall is: 0.916335 \n",
      "The f1 score is: 0.867925 \n"
     ]
    }
   ],
   "source": [
    "X_train2 = np.array(X_train)\n",
    "X_test2 = np.array(X_test)\n",
    "clf_MLP2 = MLPClassifier(hidden_layer_sizes = (5), activation = 'relu', solver = 'sgd')\n",
    "clf_MLP2.fit(X_train2[:,[0,1,2,6,10,13,15,17]], y_train)\n",
    "predicted_MLP2 = clf_MLP2.predict(X_test2[:,[0,1,2,6,10,13,15,17]])\n",
    "y_pred = predicted_MLP2\n",
    "y_true = y_test\n",
    "print('For MLP:')\n",
    "acc = accuracy_score(y_true, y_pred)\n",
    "print (\"The accuracy is: %f%% \" % ( 100*acc ))\n",
    "auc = (roc_auc_score(y_true, y_pred))\n",
    "print (\"The AUC score is: %f \" %  ( auc ))\n",
    "pre = metrics.precision_score(y_true, y_pred)\n",
    "print (\"The precision is: %f \" %  ( pre ))\n",
    "rec = metrics.recall_score(y_true, y_pred)\n",
    "print (\"The recall is: %f \" %  ( rec ))\n",
    "f1 = metrics.f1_score(y_true, y_pred)  \n",
    "print (\"The f1 score is: %f \" %  ( f1 ))"
   ]
  },
  {
   "cell_type": "code",
   "execution_count": 188,
   "metadata": {
    "collapsed": false
   },
   "outputs": [
    {
     "name": "stdout",
     "output_type": "stream",
     "text": [
      "(577L, 1L)\n"
     ]
    }
   ],
   "source": [
    "X_val = np.load(open('test_features.npy','rb'))\n",
    "pred_sgd = np.array(clf_MLP2.predict(X_val[:,[0,1,2,6,10,13,15,17]]))\n",
    "pred_sgd2 = []\n",
    "for i in range (len(pred_sgd)):\n",
    "    pred_sgd2.append([pred_sgd[i]])\n",
    "pred_sgd2 = np.array(pred_sgd2)\n",
    "print(pred_sgd2.shape)\n",
    "np.save('pred_sgd4.npy',pred_sgd2)"
   ]
  },
  {
   "cell_type": "code",
   "execution_count": 197,
   "metadata": {
    "collapsed": false
   },
   "outputs": [
    {
     "name": "stdout",
     "output_type": "stream",
     "text": [
      "For Decision Tree:\n",
      "The accuracy is: 87.827715% \n",
      "The AUC score is: 0.880429 \n",
      "The precision is: 0.839416 \n",
      "The recall is: 0.916335 \n",
      "The f1 score is: 0.876190 \n"
     ]
    }
   ],
   "source": [
    "from sklearn import tree\n",
    "X_train2 = np.array(X_train)\n",
    "X_test2 = np.array(X_test)\n",
    "clf_DT3 = tree.DecisionTreeClassifier(max_depth=4)\n",
    "clf_DT3 = clf_DT3.fit(X_train2[:,[0,1,2,6,10,13,15,17]], y_train)\n",
    "#predicted_DT = clf_DT.predict_proba(xtest)[:, 1]\n",
    "predicted_DT3 = clf_DT3.predict(X_test2[:,[0,1,2,6,10,13,15,17]])\n",
    "#best_set = clf_DT1.best_params_\n",
    "y_true = y_test\n",
    "y_pred = predicted_DT3\n",
    "print('For Decision Tree:')\n",
    "acc = accuracy_score(y_true, y_pred)\n",
    "print (\"The accuracy is: %f%% \" % ( 100*acc ))\n",
    "auc = (roc_auc_score(y_true, y_pred))\n",
    "print (\"The AUC score is: %f \" %  ( auc ))\n",
    "pre = metrics.precision_score(y_true, y_pred)\n",
    "print (\"The precision is: %f \" %  ( pre ))\n",
    "rec = metrics.recall_score(y_true, y_pred)\n",
    "print (\"The recall is: %f \" %  ( rec ))\n",
    "f1 = metrics.f1_score(y_true, y_pred)  \n",
    "print (\"The f1 score is: %f \" %  ( f1 ))"
   ]
  },
  {
   "cell_type": "code",
   "execution_count": 207,
   "metadata": {
    "collapsed": false
   },
   "outputs": [
    {
     "name": "stdout",
     "output_type": "stream",
     "text": [
      "For Kmeans:\n",
      "The accuracy is: 74.396814% \n",
      "The AUC score is: 0.757669 \n",
      "The precision is: 0.649934 \n",
      "The recall is: 0.987045 \n",
      "The f1 score is: 0.783778 \n"
     ]
    }
   ],
   "source": [
    "from sklearn.cluster import KMeans\n",
    "import numpy as np\n",
    "X = np.array(X_train)\n",
    "kmeans = KMeans(n_clusters=2, init='k-means++', n_init=20, random_state=0).fit(X)\n",
    "y = kmeans.labels_\n",
    "yt = kmeans.predict(np.array(X_test))\n",
    "# kmeans.cluster_centers_\n",
    "y_true = y_test\n",
    "#y_true = y_train\n",
    "y_pred = 1-yt\n",
    "print('For Kmeans:')\n",
    "acc = accuracy_score(y_true, y_pred)\n",
    "print (\"The accuracy is: %f%% \" % ( 100*acc ))\n",
    "auc = (roc_auc_score(y_true, y_pred))\n",
    "print (\"The AUC score is: %f \" %  ( auc ))\n",
    "pre = metrics.precision_score(y_true, y_pred)\n",
    "print (\"The precision is: %f \" %  ( pre ))\n",
    "rec = metrics.recall_score(y_true, y_pred)\n",
    "print (\"The recall is: %f \" %  ( rec ))\n",
    "f1 = metrics.f1_score(y_true, y_pred)  \n",
    "print (\"The f1 score is: %f \" %  ( f1 ))"
   ]
  },
  {
   "cell_type": "code",
   "execution_count": 208,
   "metadata": {
    "collapsed": false
   },
   "outputs": [
    {
     "name": "stdout",
     "output_type": "stream",
     "text": [
      "0.713984539688\n"
     ]
    }
   ],
   "source": [
    "print(sum(y_pred)/(len(y_pred)+.0000001))"
   ]
  },
  {
   "cell_type": "code",
   "execution_count": 211,
   "metadata": {
    "collapsed": false
   },
   "outputs": [
    {
     "name": "stdout",
     "output_type": "stream",
     "text": [
      "For Decision Tree:\n",
      "The accuracy is: 87.453184% \n",
      "The AUC score is: 0.876895 \n",
      "The precision is: 0.833333 \n",
      "The recall is: 0.916335 \n",
      "The f1 score is: 0.872865 \n"
     ]
    }
   ],
   "source": [
    "from sklearn import tree\n",
    "X_train2 = np.array(X_train)\n",
    "X_test2 = np.array(X_test)\n",
    "clf_DT3 = tree.DecisionTreeClassifier(max_depth=3)\n",
    "clf_DT3 = clf_DT3.fit(X_train2[:,[0,1,2,6,13,15]], y_train)\n",
    "#predicted_DT = clf_DT.predict_proba(xtest)[:, 1]\n",
    "predicted_DT3 = clf_DT3.predict(X_test2[:,[0,1,2,6,13,15]])\n",
    "#best_set = clf_DT1.best_params_\n",
    "y_true = y_test\n",
    "y_pred = predicted_DT3\n",
    "print('For Decision Tree:')\n",
    "acc = accuracy_score(y_true, y_pred)\n",
    "print (\"The accuracy is: %f%% \" % ( 100*acc ))\n",
    "auc = (roc_auc_score(y_true, y_pred))\n",
    "print (\"The AUC score is: %f \" %  ( auc ))\n",
    "pre = metrics.precision_score(y_true, y_pred)\n",
    "print (\"The precision is: %f \" %  ( pre ))\n",
    "rec = metrics.recall_score(y_true, y_pred)\n",
    "print (\"The recall is: %f \" %  ( rec ))\n",
    "f1 = metrics.f1_score(y_true, y_pred)  \n",
    "print (\"The f1 score is: %f \" %  ( f1 ))"
   ]
  },
  {
   "cell_type": "code",
   "execution_count": 212,
   "metadata": {
    "collapsed": false
   },
   "outputs": [
    {
     "name": "stdout",
     "output_type": "stream",
     "text": [
      "(577L, 1L)\n"
     ]
    }
   ],
   "source": [
    "X_val = np.load(open('test_features.npy','rb'))\n",
    "pred_1f = np.array(clf_DT3.predict(X_val[:,[0,1,2,6,13,15]]))\n",
    "pred_2f = []\n",
    "for i in range (len(pred_1f)):\n",
    "    pred_2f.append([pred_1f[i]])\n",
    "pred_2f = np.array(pred_2f)\n",
    "print(pred_2f.shape)\n",
    "np.save('pred_tl.npy',pred_2f)"
   ]
  },
  {
   "cell_type": "code",
   "execution_count": 43,
   "metadata": {
    "collapsed": false
   },
   "outputs": [
    {
     "name": "stdout",
     "output_type": "stream",
     "text": [
      "For Decision Tree:\n",
      "The accuracy is: 84.082397% \n",
      "The AUC score is: 0.841940 \n",
      "The precision is: 0.812030 \n",
      "The recall is: 0.860558 \n",
      "The f1 score is: 0.835590 \n"
     ]
    }
   ],
   "source": [
    "from sklearn.ensemble import RandomForestClassifier\n",
    "X_train2 = np.array(X_train)\n",
    "X_test2 = np.array(X_test)\n",
    "clf_RFl = RandomForestClassifier(n_estimators=25)\n",
    "clf_RFl = clf_RFl.fit(X_train2[:,[0,1,2,6,13,15]], y_train)\n",
    "#predicted_DT = clf_DT.predict_proba(xtest)[:, 1]\n",
    "predicted_RFl = clf_RFl.predict(X_test2[:,[0,1,2,6,13,15]])\n",
    "#best_set = clf_DT1.best_params_\n",
    "y_true = y_test\n",
    "y_pred = predicted_RFl\n",
    "print('For Decision Tree:')\n",
    "acc = accuracy_score(y_true, y_pred)\n",
    "print (\"The accuracy is: %f%% \" % ( 100*acc ))\n",
    "auc = (roc_auc_score(y_true, y_pred))\n",
    "print (\"The AUC score is: %f \" %  ( auc ))\n",
    "pre = metrics.precision_score(y_true, y_pred)\n",
    "print (\"The precision is: %f \" %  ( pre ))\n",
    "rec = metrics.recall_score(y_true, y_pred)\n",
    "print (\"The recall is: %f \" %  ( rec ))\n",
    "f1 = metrics.f1_score(y_true, y_pred)  \n",
    "print (\"The f1 score is: %f \" %  ( f1 ))"
   ]
  },
  {
   "cell_type": "code",
   "execution_count": 45,
   "metadata": {
    "collapsed": false
   },
   "outputs": [
    {
     "name": "stdout",
     "output_type": "stream",
     "text": [
      "(577L, 1L)\n"
     ]
    }
   ],
   "source": [
    "X_val = np.load(open('test_features.npy','rb'))\n",
    "pred_1f = np.array(clf_RFl.predict(X_val[:,[0,1,2,6,13,15]]))\n",
    "pred_2f = []\n",
    "for i in range (len(pred_1f)):\n",
    "    pred_2f.append([pred_1f[i]])\n",
    "pred_2f = np.array(pred_2f)\n",
    "print(pred_2f.shape)\n",
    "np.save('pred_rfl.npy',pred_2f)"
   ]
  },
  {
   "cell_type": "code",
   "execution_count": 9,
   "metadata": {
    "collapsed": false
   },
   "outputs": [
    {
     "data": {
      "image/png": "[encoded data removed]",
      "text/plain": [
       "<IPython.core.display.Image object>"
      ]
     },
     "execution_count": 9,
     "metadata": {},
     "output_type": "execute_result"
    }
   ],
   "source": [
    "from sklearn import tree\n",
    "clf_DT2 = tree.DecisionTreeClassifier(max_depth=4)\n",
    "clf_DT2 = clf_DT2.fit(X_train, y_train)\n",
    "# To visualize the tree\n",
    "from IPython.display import Image  \n",
    "import pydotplus\n",
    "names = ['has_bot_string','account_age','followers','favourites','contributors','friends','geo','has_extended_profile','is_translation_enabled','lang','location','notifications','tweets','verified','url','default_profile','default_profile_image','listed']\n",
    "clss = ['bot','not_bot']\n",
    "dot_data = tree.export_graphviz(clf_DT2, out_file=None, \n",
    "                     feature_names=names,  \n",
    "                     class_names=clss,  \n",
    "                     filled=True, rounded=True,  \n",
    "                     special_characters=True)  \n",
    "graph = pydotplus.graph_from_dot_data(dot_data)  \n",
    "Image(graph.create_png())  "
   ]
  },
  {
   "cell_type": "code",
   "execution_count": null,
   "metadata": {
    "collapsed": true
   },
   "outputs": [],
   "source": []
  }
 ],
 "metadata": {
  "anaconda-cloud": {},
  "kernelspec": {
   "display_name": "Python 2",
   "language": "python",
   "name": "python2"
  },
  "language_info": {
   "codemirror_mode": {
    "name": "ipython",
    "version": 2
   },
   "file_extension": ".py",
   "mimetype": "text/x-python",
   "name": "python",
   "nbconvert_exporter": "python",
   "pygments_lexer": "ipython2",
   "version": "2.7.13"
  }
 },
 "nbformat": 4,
 "nbformat_minor": 0
}
