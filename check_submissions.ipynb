{
 "cells": [
  {
   "cell_type": "code",
   "execution_count": null,
   "metadata": {
    "collapsed": true
   },
   "outputs": [],
   "source": [
    "import pandas as pd\n",
    "import numpy as np\n",
    "import pickle\n",
    "\n",
    "with open('processed_dataset/test_accounts_pandas.pkl', 'rb') as f:\n",
    "    accounts = pickle.load(f)\n",
    "pf_accounts = pd.DataFrame(accounts)\n",
    "predictions = pd.DataFrame(np.load('processed_dataset/pred_RFt9.npy'))\n",
    "submission = pd.DataFrame()\n",
    "submission['Id'] = pf_accounts['id'].astype('int')\n",
    "submission['Bot'] = predictions.astype('int')\n",
    "\n",
    "truth = pd.read_csv('/home/eodos/Downloads/4634548/submission.csv', encoding='latin-1')\n"
   ]
  },
  {
   "cell_type": "code",
   "execution_count": null,
   "metadata": {},
   "outputs": [],
   "source": [
    "sum(truth['Bot'] != submission['Bot'])"
   ]
  },
  {
   "cell_type": "code",
   "execution_count": null,
   "metadata": {},
   "outputs": [],
   "source": [
    "print('Bot: {}, Nonbot: {}'.format(sum(truth['Bot'] == 1), sum(truth['Bot'] == 0)))"
   ]
  },
  {
   "cell_type": "code",
   "execution_count": null,
   "metadata": {},
   "outputs": [],
   "source": [
    "print('Bot: {}, Nonbot: {}'.format(sum(submission['Bot'] == 1), sum(submission['Bot'] == 0)))"
   ]
  },
  {
   "cell_type": "code",
   "execution_count": null,
   "metadata": {},
   "outputs": [],
   "source": [
    "accounts[truth['Bot'] != submission['Bot']]['screen_name']"
   ]
  },
  {
   "cell_type": "code",
   "execution_count": null,
   "metadata": {},
   "outputs": [],
   "source": [
    "submission"
   ]
  },
  {
   "cell_type": "code",
   "execution_count": null,
   "metadata": {
    "collapsed": true
   },
   "outputs": [],
   "source": [
    "with open('processed_dataset/bot_accounts.pkl', 'rb') as f:\n",
    "    bots = pickle.load(f)\n",
    "    \n",
    "with open('processed_dataset/nonbot_accounts.pkl', 'rb') as f:\n",
    "    nonbots = pickle.load(f)"
   ]
  },
  {
   "cell_type": "code",
   "execution_count": null,
   "metadata": {
    "collapsed": true
   },
   "outputs": [],
   "source": [
    "with open('processed_dataset/bot_features_without_normalization.pkl', 'rb') as f:\n",
    "    bot_features = pickle.load(f)\n",
    "with open('processed_dataset/nonbot_features_without_normalization.pkl', 'rb') as f:\n",
    "    nonbot_features = pickle.load(f)"
   ]
  },
  {
   "cell_type": "code",
   "execution_count": null,
   "metadata": {},
   "outputs": [],
   "source": [
    "nonbot_features[nonbot_features['has_bot_string']==1]"
   ]
  },
  {
   "cell_type": "code",
   "execution_count": null,
   "metadata": {},
   "outputs": [],
   "source": [
    "with open('processed_dataset/test_features_without_normalization.pkl', 'rb') as f:\n",
    "    test = pickle.load(f)\n",
    "sum(submission[test['has_bot_string'] == 1]['Bot'] == 0)"
   ]
  },
  {
   "cell_type": "code",
   "execution_count": null,
   "metadata": {
    "collapsed": true
   },
   "outputs": [],
   "source": []
  }
 ],
 "metadata": {
  "kernelspec": {
   "display_name": "Python 3",
   "language": "python",
   "name": "python3"
  },
  "language_info": {
   "codemirror_mode": {
    "name": "ipython",
    "version": 3
   },
   "file_extension": ".py",
   "mimetype": "text/x-python",
   "name": "python",
   "nbconvert_exporter": "python",
   "pygments_lexer": "ipython3",
   "version": "3.6.1"
  }
 },
 "nbformat": 4,
 "nbformat_minor": 2
}
