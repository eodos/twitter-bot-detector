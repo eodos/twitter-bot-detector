{
 "cells": [
  {
   "cell_type": "code",
   "execution_count": null,
   "metadata": {
    "collapsed": true
   },
   "outputs": [],
   "source": [
    "usernames = []\n",
    "with open('unprocessed_dataset/test_data_4_students.csv', encoding='latin-1') as f:\n",
    "    f.readline()\n",
    "    for line in f:\n",
    "        try:\n",
    "            if (line[0] != ' ' and line.split(',')[2][0] != \"\\\"\"):\n",
    "                usernames.append(line.split(',')[2])\n",
    "        except:\n",
    "            continue"
   ]
  },
  {
   "cell_type": "code",
   "execution_count": null,
   "metadata": {
    "collapsed": true
   },
   "outputs": [],
   "source": [
    "len(usernames)"
   ]
  },
  {
   "cell_type": "code",
   "execution_count": null,
   "metadata": {
    "collapsed": true
   },
   "outputs": [],
   "source": [
    "from twitter import *\n",
    "\n",
    "from api_keys import *\n",
    "\n",
    "twitter = Twitter(auth = OAuth(access_key, access_secret, consumer_key, consumer_secret))"
   ]
  },
  {
   "cell_type": "code",
   "execution_count": null,
   "metadata": {
    "collapsed": true
   },
   "outputs": [],
   "source": [
    "def add_accounts_info(accounts, output):\n",
    "    temp = twitter.users.lookup(screen_name=','.join(str(acc) for acc in accounts))\n",
    "    for account in temp:\n",
    "        output.append(account)"
   ]
  },
  {
   "cell_type": "code",
   "execution_count": null,
   "metadata": {
    "collapsed": true
   },
   "outputs": [],
   "source": [
    "info = []\n",
    "count = 100\n",
    "\n",
    "while (count<len(usernames)):\n",
    "    add_accounts_info(usernames[count-100:count], info)\n",
    "    count += 100\n",
    "add_accounts_info(usernames[count-100:len(usernames)], info)"
   ]
  },
  {
   "cell_type": "code",
   "execution_count": null,
   "metadata": {
    "collapsed": true
   },
   "outputs": [],
   "source": [
    "len(info)"
   ]
  },
  {
   "cell_type": "code",
   "execution_count": null,
   "metadata": {
    "collapsed": true
   },
   "outputs": [],
   "source": [
    "import pickle\n",
    "with open('unprocessed_dataset/test_accounts.pkl', 'wb') as f:\n",
    "    pickle.dump(info, f)"
   ]
  },
  {
   "cell_type": "code",
   "execution_count": null,
   "metadata": {
    "scrolled": false
   },
   "outputs": [],
   "source": [
    "import pandas as pd\n",
    "data = pd.read_csv('processed_dataset/test_data_4_students.csv', encoding='latin-1')\n",
    "data = data[pd.notnull(data['id'])]\n",
    "data.tail()"
   ]
  },
  {
   "cell_type": "code",
   "execution_count": null,
   "metadata": {
    "collapsed": true
   },
   "outputs": [],
   "source": [
    "usernames = data[\"screen_name\"].tolist()\n",
    "info = []\n",
    "count = 100\n",
    "\n",
    "while (count<len(usernames)):\n",
    "    add_accounts_info(usernames[count-100:count], info)\n",
    "    count += 100\n",
    "add_accounts_info(usernames[count-100:len(usernames)], info)"
   ]
  },
  {
   "cell_type": "code",
   "execution_count": null,
   "metadata": {
    "collapsed": true
   },
   "outputs": [],
   "source": [
    "len(info)"
   ]
  },
  {
   "cell_type": "code",
   "execution_count": null,
   "metadata": {
    "collapsed": true
   },
   "outputs": [],
   "source": [
    "import pickle\n",
    "with open('processed_dataset/test_accounts.pkl', 'wb') as f:\n",
    "    pickle.dump(info, f)"
   ]
  },
  {
   "cell_type": "code",
   "execution_count": null,
   "metadata": {
    "collapsed": true
   },
   "outputs": [],
   "source": [
    "import pickle\n",
    "with open('processed_dataset/test_accounts_pandas.pkl', 'wb') as f:\n",
    "    pickle.dump(data, f)"
   ]
  },
  {
   "cell_type": "code",
   "execution_count": null,
   "metadata": {
    "collapsed": true
   },
   "outputs": [],
   "source": [
    "data['id'].tail()"
   ]
  },
  {
   "cell_type": "code",
   "execution_count": null,
   "metadata": {
    "collapsed": true
   },
   "outputs": [],
   "source": []
  }
 ],
 "metadata": {
  "anaconda-cloud": {},
  "kernelspec": {
   "display_name": "Python [default]",
   "language": "python",
   "name": "python3"
  },
  "language_info": {
   "codemirror_mode": {
    "name": "ipython",
    "version": 3
   },
   "file_extension": ".py",
   "mimetype": "text/x-python",
   "name": "python",
   "nbconvert_exporter": "python",
   "pygments_lexer": "ipython3",
   "version": "3.5.3"
  }
 },
 "nbformat": 4,
 "nbformat_minor": 1
}
