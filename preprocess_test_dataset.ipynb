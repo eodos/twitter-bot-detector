{
 "cells": [
  {
   "cell_type": "code",
   "execution_count": 2,
   "metadata": {
    "collapsed": true
   },
   "outputs": [],
   "source": [
    "usernames = []\n",
    "with open('unprocessed_dataset/test_data_4_students.csv', encoding='latin-1') as f:\n",
    "    f.readline()\n",
    "    for line in f:\n",
    "        try:\n",
    "            if (line[0] != ' ' and line.split(',')[2][0] != \"\\\"\"):\n",
    "                usernames.append(line.split(',')[2])\n",
    "        except:\n",
    "            continue"
   ]
  },
  {
   "cell_type": "code",
   "execution_count": 4,
   "metadata": {
    "collapsed": false
   },
   "outputs": [
    {
     "data": {
      "text/plain": [
       "617"
      ]
     },
     "execution_count": 4,
     "metadata": {},
     "output_type": "execute_result"
    }
   ],
   "source": [
    "len(usernames)"
   ]
  },
  {
   "cell_type": "code",
   "execution_count": 9,
   "metadata": {
    "collapsed": false
   },
   "outputs": [],
   "source": [
    "from twitter import *\n",
    "\n",
    "from api_keys import *\n",
    "\n",
    "twitter = Twitter(auth = OAuth(access_key, access_secret, consumer_key, consumer_secret))"
   ]
  },
  {
   "cell_type": "code",
   "execution_count": 42,
   "metadata": {
    "collapsed": true
   },
   "outputs": [],
   "source": [
    "def add_accounts_info(accounts, output):\n",
    "    temp = twitter.users.lookup(screen_name=','.join(str(acc) for acc in accounts))\n",
    "    for account in temp:\n",
    "        output.append(account)"
   ]
  },
  {
   "cell_type": "code",
   "execution_count": 12,
   "metadata": {
    "collapsed": true
   },
   "outputs": [],
   "source": [
    "info = []\n",
    "count = 100\n",
    "\n",
    "while (count<len(usernames)):\n",
    "    add_accounts_info(usernames[count-100:count], info)\n",
    "    count += 100\n",
    "add_accounts_info(usernames[count-100:len(usernames)], info)"
   ]
  },
  {
   "cell_type": "code",
   "execution_count": 14,
   "metadata": {
    "collapsed": false
   },
   "outputs": [
    {
     "data": {
      "text/plain": [
       "605"
      ]
     },
     "execution_count": 14,
     "metadata": {},
     "output_type": "execute_result"
    }
   ],
   "source": [
    "len(info)"
   ]
  },
  {
   "cell_type": "code",
   "execution_count": 18,
   "metadata": {
    "collapsed": false
   },
   "outputs": [],
   "source": [
    "import pickle\n",
    "with open('processed_dataset/test_accounts.pkl', 'wb') as f:\n",
    "    pickle.dump(info, f)"
   ]
  },
  {
   "cell_type": "code",
   "execution_count": 33,
   "metadata": {
    "collapsed": false,
    "scrolled": false
   },
   "outputs": [
    {
     "data": {
      "text/html": [
       "<div>\n",
       "<table border=\"1\" class=\"dataframe\">\n",
       "  <thead>\n",
       "    <tr style=\"text-align: right;\">\n",
       "      <th></th>\n",
       "      <th>ï»¿id</th>\n",
       "      <th>id_str</th>\n",
       "      <th>screen_name</th>\n",
       "      <th>location</th>\n",
       "      <th>description</th>\n",
       "      <th>url</th>\n",
       "      <th>followers_count</th>\n",
       "      <th>friends_count</th>\n",
       "      <th>listed_count</th>\n",
       "      <th>created_at</th>\n",
       "      <th>favorites_count</th>\n",
       "      <th>verified</th>\n",
       "      <th>statuses_count</th>\n",
       "      <th>lang</th>\n",
       "      <th>status</th>\n",
       "      <th>default_profile</th>\n",
       "      <th>default_profile_image</th>\n",
       "      <th>has_extended_profile</th>\n",
       "      <th>name</th>\n",
       "      <th>bot</th>\n",
       "    </tr>\n",
       "  </thead>\n",
       "  <tbody>\n",
       "    <tr>\n",
       "      <th>0</th>\n",
       "      <td>2.281293e+09</td>\n",
       "      <td>2281292622</td>\n",
       "      <td>__keating</td>\n",
       "      <td>brooklyn</td>\n",
       "      <td>lgbt editor at @buzzfeed. shannon.keating@buzz...</td>\n",
       "      <td>https://t.co/QneJmYRyhj</td>\n",
       "      <td>4466</td>\n",
       "      <td>1295</td>\n",
       "      <td>111</td>\n",
       "      <td>Tue Jan 07 23:26:52 +0000 2014</td>\n",
       "      <td>1579</td>\n",
       "      <td>TRUE</td>\n",
       "      <td>3036.0</td>\n",
       "      <td>en</td>\n",
       "      <td>{'created_at': 'Tue Apr 11 15:31:51 +0000 2017...</td>\n",
       "      <td>FALSE</td>\n",
       "      <td>FALSE</td>\n",
       "      <td>FALSE</td>\n",
       "      <td>shannon keating</td>\n",
       "      <td>NaN</td>\n",
       "    </tr>\n",
       "    <tr>\n",
       "      <th>1</th>\n",
       "      <td>2.344040e+09</td>\n",
       "      <td>2344040251</td>\n",
       "      <td>_callme_Dani</td>\n",
       "      <td>Los Angeles, CA</td>\n",
       "      <td>News Curation Editor @BuzzFeedNews \\rI do a lo...</td>\n",
       "      <td>NaN</td>\n",
       "      <td>295</td>\n",
       "      <td>1016</td>\n",
       "      <td>10</td>\n",
       "      <td>Fri Feb 14 19:45:56 +0000 2014</td>\n",
       "      <td>300</td>\n",
       "      <td>FALSE</td>\n",
       "      <td>618.0</td>\n",
       "      <td>en</td>\n",
       "      <td>{'created_at': 'Tue Apr 11 00:56:02 +0000 2017...</td>\n",
       "      <td>FALSE</td>\n",
       "      <td>FALSE</td>\n",
       "      <td>FALSE</td>\n",
       "      <td>Danielle Hopkins</td>\n",
       "      <td>NaN</td>\n",
       "    </tr>\n",
       "    <tr>\n",
       "      <th>2</th>\n",
       "      <td>7.658713e+08</td>\n",
       "      <td>765871267</td>\n",
       "      <td>_little_britt_</td>\n",
       "      <td>NaN</td>\n",
       "      <td>Family comes first! Also I am in love with piz...</td>\n",
       "      <td>https://t.co/E7DE1cJB7e</td>\n",
       "      <td>1001678</td>\n",
       "      <td>3017</td>\n",
       "      <td>14</td>\n",
       "      <td>8/18/2012 15:13</td>\n",
       "      <td>13040</td>\n",
       "      <td>TRUE</td>\n",
       "      <td>3329.0</td>\n",
       "      <td>en</td>\n",
       "      <td>{'place': None, 'retweeted': False, 'favorited...</td>\n",
       "      <td>TRUE</td>\n",
       "      <td>FALSE</td>\n",
       "      <td>TRUE</td>\n",
       "      <td>Brittney Smith</td>\n",
       "      <td>NaN</td>\n",
       "    </tr>\n",
       "    <tr>\n",
       "      <th>3</th>\n",
       "      <td>4.772373e+09</td>\n",
       "      <td>4772373433</td>\n",
       "      <td>134k5</td>\n",
       "      <td>NaN</td>\n",
       "      <td>@BuzzFeedJapan â°Â Â @cnet_japan / DMÅ½ÃÃâ...</td>\n",
       "      <td>https://t.co/Cbguzs2PjT</td>\n",
       "      <td>445</td>\n",
       "      <td>487</td>\n",
       "      <td>17</td>\n",
       "      <td>Sun Jan 17 07:11:45 +0000 2016</td>\n",
       "      <td>1112</td>\n",
       "      <td>FALSE</td>\n",
       "      <td>46.0</td>\n",
       "      <td>ja</td>\n",
       "      <td>{'created_at': 'Sat Apr 08 08:41:08 +0000 2017...</td>\n",
       "      <td>FALSE</td>\n",
       "      <td>FALSE</td>\n",
       "      <td>TRUE</td>\n",
       "      <td>Keigo Isashi</td>\n",
       "      <td>NaN</td>\n",
       "    </tr>\n",
       "    <tr>\n",
       "      <th>4</th>\n",
       "      <td>1.324549e+09</td>\n",
       "      <td>None</td>\n",
       "      <td>2181chrom_bot</td>\n",
       "      <td>Ã¨â¡ÂªÃ¥Ëâ Ã£ÂÂ®Ã¥Â¤Â©Ã¥Â¹â¢</td>\n",
       "      <td>Ã£ÂâÃ£âÅÃ£ÂÂ¯FEÃ¨Â¦Å¡Ã©â âÃ£ÂÂ®Ã£â...</td>\n",
       "      <td>http://t.co/10Swf6luED</td>\n",
       "      <td>187</td>\n",
       "      <td>68</td>\n",
       "      <td>13</td>\n",
       "      <td>Wed Apr 03 13:00:42 +0000 2013</td>\n",
       "      <td>None</td>\n",
       "      <td>None</td>\n",
       "      <td>690359.0</td>\n",
       "      <td>ja</td>\n",
       "      <td>{u'lang': u'ja', u'text': u'@2181lucina_bot \\u...</td>\n",
       "      <td>None</td>\n",
       "      <td>None</td>\n",
       "      <td>None</td>\n",
       "      <td>Ã£ÆâÃ£âÂ¤Ã¥Â»ÆÃ£âÂ¯Ã£ÆÂ­Ã£ÆÂ bot</td>\n",
       "      <td>NaN</td>\n",
       "    </tr>\n",
       "  </tbody>\n",
       "</table>\n",
       "</div>"
      ],
      "text/plain": [
       "          ï»¿id      id_str     screen_name  \\\n",
       "0  2.281293e+09  2281292622       __keating   \n",
       "1  2.344040e+09  2344040251    _callme_Dani   \n",
       "2  7.658713e+08   765871267  _little_britt_   \n",
       "3  4.772373e+09  4772373433           134k5   \n",
       "4  1.324549e+09        None   2181chrom_bot   \n",
       "\n",
       "                            location  \\\n",
       "0                           brooklyn   \n",
       "1                    Los Angeles, CA   \n",
       "2                                NaN   \n",
       "3                                NaN   \n",
       "4  Ã¨â¡ÂªÃ¥Ëâ Ã£ÂÂ®Ã¥Â¤Â©Ã¥Â¹â¢   \n",
       "\n",
       "                                         description                      url  \\\n",
       "0  lgbt editor at @buzzfeed. shannon.keating@buzz...  https://t.co/QneJmYRyhj   \n",
       "1  News Curation Editor @BuzzFeedNews \\rI do a lo...                      NaN   \n",
       "2  Family comes first! Also I am in love with piz...  https://t.co/E7DE1cJB7e   \n",
       "3  @BuzzFeedJapan â°Â Â @cnet_japan / DMÅ½ÃÃâ...  https://t.co/Cbguzs2PjT   \n",
       "4  Ã£ÂâÃ£âÅÃ£ÂÂ¯FEÃ¨Â¦Å¡Ã©â âÃ£ÂÂ®Ã£â...   http://t.co/10Swf6luED   \n",
       "\n",
       "  followers_count friends_count listed_count                      created_at  \\\n",
       "0            4466          1295          111  Tue Jan 07 23:26:52 +0000 2014   \n",
       "1             295          1016           10  Fri Feb 14 19:45:56 +0000 2014   \n",
       "2         1001678          3017           14                 8/18/2012 15:13   \n",
       "3             445           487           17  Sun Jan 17 07:11:45 +0000 2016   \n",
       "4             187            68           13  Wed Apr 03 13:00:42 +0000 2013   \n",
       "\n",
       "  favorites_count verified  statuses_count lang  \\\n",
       "0            1579     TRUE          3036.0   en   \n",
       "1             300    FALSE           618.0   en   \n",
       "2           13040     TRUE          3329.0   en   \n",
       "3            1112    FALSE            46.0   ja   \n",
       "4            None     None        690359.0   ja   \n",
       "\n",
       "                                              status default_profile  \\\n",
       "0  {'created_at': 'Tue Apr 11 15:31:51 +0000 2017...           FALSE   \n",
       "1  {'created_at': 'Tue Apr 11 00:56:02 +0000 2017...           FALSE   \n",
       "2  {'place': None, 'retweeted': False, 'favorited...            TRUE   \n",
       "3  {'created_at': 'Sat Apr 08 08:41:08 +0000 2017...           FALSE   \n",
       "4  {u'lang': u'ja', u'text': u'@2181lucina_bot \\u...            None   \n",
       "\n",
       "  default_profile_image has_extended_profile  \\\n",
       "0                 FALSE                FALSE   \n",
       "1                 FALSE                FALSE   \n",
       "2                 FALSE                 TRUE   \n",
       "3                 FALSE                 TRUE   \n",
       "4                  None                 None   \n",
       "\n",
       "                                         name  bot  \n",
       "0                             shannon keating  NaN  \n",
       "1                            Danielle Hopkins  NaN  \n",
       "2                              Brittney Smith  NaN  \n",
       "3                                Keigo Isashi  NaN  \n",
       "4  Ã£ÆâÃ£âÂ¤Ã¥Â»ÆÃ£âÂ¯Ã£ÆÂ­Ã£ÆÂ bot  NaN  "
      ]
     },
     "execution_count": 33,
     "metadata": {},
     "output_type": "execute_result"
    }
   ],
   "source": [
    "import pandas as pd\n",
    "data = pd.read_csv('unprocessed_dataset/test_data_4_students.csv', encoding='latin-1')\n",
    "data.dropna(subset=[\"screen_name\"]) \n",
    "data.head()"
   ]
  },
  {
   "cell_type": "code",
   "execution_count": 43,
   "metadata": {
    "collapsed": false
   },
   "outputs": [],
   "source": [
    "usernames = data[\"screen_name\"].tolist()\n",
    "info = []\n",
    "count = 100\n",
    "\n",
    "while (count<len(usernames)):\n",
    "    add_accounts_info(usernames[count-100:count], info)\n",
    "    count += 100\n",
    "add_accounts_info(usernames[count-100:len(usernames)], info)"
   ]
  },
  {
   "cell_type": "code",
   "execution_count": 45,
   "metadata": {
    "collapsed": false
   },
   "outputs": [
    {
     "data": {
      "text/plain": [
       "577"
      ]
     },
     "execution_count": 45,
     "metadata": {},
     "output_type": "execute_result"
    }
   ],
   "source": [
    "len(info)"
   ]
  },
  {
   "cell_type": "code",
   "execution_count": 46,
   "metadata": {
    "collapsed": true
   },
   "outputs": [],
   "source": [
    "import pickle\n",
    "with open('processed_dataset/test_accounts.pkl', 'wb') as f:\n",
    "    pickle.dump(info, f)"
   ]
  }
 ],
 "metadata": {
  "anaconda-cloud": {},
  "kernelspec": {
   "display_name": "Python [conda root]",
   "language": "python",
   "name": "conda-root-py"
  },
  "language_info": {
   "codemirror_mode": {
    "name": "ipython",
    "version": 3
   },
   "file_extension": ".py",
   "mimetype": "text/x-python",
   "name": "python",
   "nbconvert_exporter": "python",
   "pygments_lexer": "ipython3",
   "version": "3.5.2"
  }
 },
 "nbformat": 4,
 "nbformat_minor": 1
}
