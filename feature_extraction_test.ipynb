{
 "cells": [
  {
   "cell_type": "code",
   "execution_count": null,
   "metadata": {
    "collapsed": true
   },
   "outputs": [],
   "source": [
    "import pickle\n",
    "import pandas as pd\n",
    "import numpy as np\n",
    "\n",
    "with open('processed_dataset/test_accounts.pkl', 'rb') as f:\n",
    "    accounts = pickle.load(f)"
   ]
  },
  {
   "cell_type": "code",
   "execution_count": null,
   "metadata": {},
   "outputs": [],
   "source": [
    "len(accounts)"
   ]
  },
  {
   "cell_type": "code",
   "execution_count": null,
   "metadata": {
    "collapsed": true
   },
   "outputs": [],
   "source": [
    "features = pd.DataFrame()\n",
    "pf_accounts = pd.DataFrame(accounts)"
   ]
  },
  {
   "cell_type": "code",
   "execution_count": null,
   "metadata": {},
   "outputs": [],
   "source": [
    "import re\n",
    "features['has_bot_string'] = [int(item) for item in\n",
    "        ([(re.search(r'bot', item, flags=re.IGNORECASE) != None) for item in list(pf_accounts['description'])] \n",
    "      or [(re.search(r'bot', item, flags=re.IGNORECASE) != None) for item in list(pf_accounts['name'])])]\n",
    "features.head()"
   ]
  },
  {
   "cell_type": "code",
   "execution_count": null,
   "metadata": {},
   "outputs": [],
   "source": [
    "twitter_start_date = 2006\n",
    "current_year = 2017\n",
    "\n",
    "features['account_age'] = [(current_year - (int(item.split(' ')[-1])))/(current_year - twitter_start_date) for item in list(pf_accounts['created_at'])]\n",
    "features.head()"
   ]
  },
  {
   "cell_type": "code",
   "execution_count": null,
   "metadata": {},
   "outputs": [],
   "source": [
    "# Followers\n",
    "max_followers = 100000\n",
    "features['followers'] = [item for item in list(pf_accounts['followers_count'])]\n",
    "# features['followers'] = [min(item/max_followers, 1) for item in list(pf_accounts['followers_count'])]\n",
    "features.head()"
   ]
  },
  {
   "cell_type": "code",
   "execution_count": null,
   "metadata": {},
   "outputs": [],
   "source": [
    "# Favourites\n",
    "max_favourites = np.int64(716281)\n",
    "features['favourites'] = list(pf_accounts['favourites_count'])#/max_favourites\n",
    "features.head()"
   ]
  },
  {
   "cell_type": "code",
   "execution_count": null,
   "metadata": {},
   "outputs": [],
   "source": [
    "# Contributors_enabled\n",
    "features['contributors'] = [int(item) for item in list(pf_accounts['contributors_enabled'])]\n",
    "features.head()"
   ]
  },
  {
   "cell_type": "code",
   "execution_count": null,
   "metadata": {},
   "outputs": [],
   "source": [
    "# Friends\n",
    "max_friends = 100000\n",
    "features['friends'] = [item for item in list(pf_accounts['friends_count'])]\n",
    "# features['friends'] = [min(item/max_friends, 1) for item in list(pf_accounts['friends_count'])]\n",
    "features.head()"
   ]
  },
  {
   "cell_type": "code",
   "execution_count": null,
   "metadata": {},
   "outputs": [],
   "source": [
    "# Geo\n",
    "features['geo'] = [int(item) for item in list(pf_accounts['geo_enabled'])]\n",
    "features.head()"
   ]
  },
  {
   "cell_type": "code",
   "execution_count": null,
   "metadata": {},
   "outputs": [],
   "source": [
    "# Extended profile\n",
    "features['has_extended_profile'] = [int(item) for item in list(pf_accounts['has_extended_profile'])]\n",
    "features.head()"
   ]
  },
  {
   "cell_type": "code",
   "execution_count": null,
   "metadata": {},
   "outputs": [],
   "source": [
    "# is_translation_enabled\n",
    "features['is_translation_enabled'] = [int(item) for item in list(pf_accounts['is_translation_enabled'])]\n",
    "features.head()"
   ]
  },
  {
   "cell_type": "code",
   "execution_count": null,
   "metadata": {},
   "outputs": [],
   "source": [
    "# lang == en\n",
    "features['lang'] = [int(item == 'en') for item in list(pf_accounts['lang'])]\n",
    "features.head()"
   ]
  },
  {
   "cell_type": "code",
   "execution_count": null,
   "metadata": {},
   "outputs": [],
   "source": [
    "# location != empty string\n",
    "features['location'] = [int(item != '') for item in list(pf_accounts['location'])]\n",
    "features.head()"
   ]
  },
  {
   "cell_type": "code",
   "execution_count": null,
   "metadata": {},
   "outputs": [],
   "source": [
    "# notifications enabled\n",
    "features['notifications'] = [int(item) for item in list(pf_accounts['notifications'])]\n",
    "features.head()"
   ]
  },
  {
   "cell_type": "code",
   "execution_count": null,
   "metadata": {},
   "outputs": [],
   "source": [
    "# Number of tweets\n",
    "max_tweets = 100000\n",
    "features['tweets'] = [item for item in list(pf_accounts['statuses_count'])]\n",
    "# features['tweets'] = [min(item/max_tweets, 1) for item in list(pf_accounts['statuses_count'])]\n",
    "features.head()"
   ]
  },
  {
   "cell_type": "code",
   "execution_count": null,
   "metadata": {},
   "outputs": [],
   "source": [
    "# Verified account\n",
    "features['verified'] = [int(item) for item in list(pf_accounts['verified'])]\n",
    "features.head()"
   ]
  },
  {
   "cell_type": "code",
   "execution_count": null,
   "metadata": {},
   "outputs": [],
   "source": [
    "# Is URL empty\n",
    "features['url'] = [int(item != None) for item in list(pf_accounts['url'])]\n",
    "features.head()"
   ]
  },
  {
   "cell_type": "code",
   "execution_count": null,
   "metadata": {},
   "outputs": [],
   "source": [
    "# Default profile\n",
    "features['default_profile'] = [int(item) for item in list(pf_accounts['default_profile'])]\n",
    "features.head()"
   ]
  },
  {
   "cell_type": "code",
   "execution_count": null,
   "metadata": {},
   "outputs": [],
   "source": [
    "# Default profile image\n",
    "features['default_profile_image'] = [int(item) for item in list(pf_accounts['default_profile_image'])]\n",
    "features.head()"
   ]
  },
  {
   "cell_type": "code",
   "execution_count": null,
   "metadata": {},
   "outputs": [],
   "source": [
    "# Listed\n",
    "max_listed = 10000\n",
    "features['listed'] = [item for item in list(pf_accounts['listed_count'])]\n",
    "# features['listed'] = [min(item/max_listed, 1) for item in list(pf_accounts['listed_count'])]\n",
    "features.head()"
   ]
  },
  {
   "cell_type": "code",
   "execution_count": null,
   "metadata": {
    "collapsed": true
   },
   "outputs": [],
   "source": [
    "# Store DataFrames\n",
    "features.to_pickle('processed_dataset/test_features_without_normalization.pkl')\n",
    "numpy_features = features.as_matrix()\n",
    "np.save('processed_dataset/test_features_without_normalization', numpy_features)"
   ]
  },
  {
   "cell_type": "code",
   "execution_count": null,
   "metadata": {
    "collapsed": true
   },
   "outputs": [],
   "source": [
    "# Store id_str\n",
    "ids = pd.DataFrame()\n",
    "ids['id'] = [n for n in list(pf_accounts['id_str'])]\n",
    "len(ids)"
   ]
  },
  {
   "cell_type": "code",
   "execution_count": null,
   "metadata": {
    "collapsed": true
   },
   "outputs": [],
   "source": [
    "ids.to_pickle('processed_dataset/test_ids.pkl')\n",
    "numpy_ids = ids.as_matrix()\n",
    "np.save('processed_dataset/test_ids', numpy_ids)"
   ]
  }
 ],
 "metadata": {
  "anaconda-cloud": {},
  "kernelspec": {
   "display_name": "Python 3",
   "language": "python",
   "name": "python3"
  },
  "language_info": {
   "codemirror_mode": {
    "name": "ipython",
    "version": 3
   },
   "file_extension": ".py",
   "mimetype": "text/x-python",
   "name": "python",
   "nbconvert_exporter": "python",
   "pygments_lexer": "ipython3",
   "version": "3.6.1"
  }
 },
 "nbformat": 4,
 "nbformat_minor": 1
}
