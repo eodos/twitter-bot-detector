{
 "cells": [
  {
   "cell_type": "code",
   "execution_count": null,
   "metadata": {
    "collapsed": true
   },
   "outputs": [],
   "source": [
    "import numpy as np\n",
    "import pandas as pd\n",
    "import pickle\n",
    "import re"
   ]
  },
  {
   "cell_type": "code",
   "execution_count": null,
   "metadata": {},
   "outputs": [],
   "source": [
    "# accounts = pd.read_csv('unprocessed_dataset/training_data_2_csv_UTF.csv')\n",
    "accounts = pd.read_csv('unprocessed_dataset/test_data_4_students.csv')\n",
    "accounts.isnull().sum()"
   ]
  },
  {
   "cell_type": "code",
   "execution_count": null,
   "metadata": {},
   "outputs": [],
   "source": [
    "features = pd.DataFrame()\n",
    "\n",
    "features['bot'] = accounts['bot']\n",
    "\n",
    "features['has_bot_string'] = [int(item) for item in\n",
    "        ([(re.search(r'bot', str(item), flags=re.IGNORECASE) != None) for item in list(accounts['description'])] \n",
    "      or [(re.search(r'bot', str(item), flags=re.IGNORECASE) != None) for item in list(accounts['name'])])]\n",
    "\n",
    "twitter_start_date = 2006\n",
    "current_year = 2017\n",
    "\n",
    "#features['account_age'] = [(current_year - (int(item.split(' ')[-1])))/(current_year - twitter_start_date) for item in list(accounts['created_at'])]\n",
    "\n",
    "max_followers = 100000\n",
    "features['followers'] = [(min(item/max_followers, 1) if item else 0) for item in list(accounts['followers_count'])]\n",
    "\n",
    "max_favourites = np.int64(716281)\n",
    "features['favourites'] = list(accounts['favourites_count'])/max_favourites\n",
    "\n",
    "#features['contributors'] = [int(item) for item in list(accounts['contributors_enabled'])]\n",
    "\n",
    "max_friends = 100000\n",
    "features['friends'] = [min(item/max_friends, 1) for item in list(accounts['friends_count'])]\n",
    "\n",
    "#features['geo'] = [int(item) for item in list(accounts['geo_enabled'])]\n",
    "\n",
    "features['has_extended_profile'] = [float(item) for item in list(accounts['has_extended_profile'])]\n",
    "\n",
    "#features['is_translation_enabled'] = [int(item) for item in list(accounts['is_translation_enabled'])]\n",
    "\n",
    "features['lang'] = [int(item == 'en') for item in list(accounts['lang'])]\n",
    "\n",
    "features['location'] = [int(item != '') for item in list(accounts['location'])]\n",
    "\n",
    "#features['notifications'] = [int(item) for item in list(accounts['notifications'])]\n",
    "\n",
    "max_tweets = 100000\n",
    "features['tweets'] = [min(item/max_tweets, 1) for item in list(accounts['statuses_count'])]\n",
    "\n",
    "features['verified'] = [int(item) for item in list(accounts['verified'])]\n",
    "\n",
    "features['url'] = [int(item != None) for item in list(accounts['url'])]\n",
    "\n",
    "features['default_profile'] = [int(item) for item in list(accounts['default_profile'])]\n",
    "\n",
    "features['default_profile_image'] = [int(item) for item in list(accounts['default_profile_image'])]\n",
    "\n",
    "max_listed = 10000\n",
    "features['listed'] = [min(item/max_listed, 1) for item in list(accounts['listedcount'])]\n",
    "\n",
    "features.tail()"
   ]
  },
  {
   "cell_type": "code",
   "execution_count": null,
   "metadata": {
    "collapsed": true
   },
   "outputs": [],
   "source": [
    "# Store DataFrames\n",
    "features.to_pickle('processed_dataset/train2.pkl')\n",
    "numpy_features = features.as_matrix()\n",
    "np.save('processed_dataset/train2', numpy_features)"
   ]
  },
  {
   "cell_type": "code",
   "execution_count": null,
   "metadata": {
    "collapsed": true
   },
   "outputs": [],
   "source": []
  }
 ],
 "metadata": {
  "kernelspec": {
   "display_name": "Python 3",
   "language": "python",
   "name": "python3"
  },
  "language_info": {
   "codemirror_mode": {
    "name": "ipython",
    "version": 3
   },
   "file_extension": ".py",
   "mimetype": "text/x-python",
   "name": "python",
   "nbconvert_exporter": "python",
   "pygments_lexer": "ipython3",
   "version": "3.6.1"
  }
 },
 "nbformat": 4,
 "nbformat_minor": 2
}
